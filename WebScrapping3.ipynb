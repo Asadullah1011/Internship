{
 "cells": [
  {
   "cell_type": "markdown",
   "id": "b77dace7",
   "metadata": {},
   "source": [
    "# Name : Asad ullah\n",
    "# Batch : DS2312\n",
    "# Web Scraping Assignment-3"
   ]
  },
  {
   "cell_type": "code",
   "execution_count": 537,
   "id": "9b0954b5",
   "metadata": {},
   "outputs": [],
   "source": [
    "import selenium\n",
    "import pandas as pd\n",
    "from selenium import webdriver\n",
    "import warnings\n",
    "warnings.filterwarnings('ignore')\n",
    "from selenium.webdriver.common.by import By\n",
    "import time\n",
    "import requests\n",
    "from selenium.common.exceptions import NoSuchElementException\n"
   ]
  },
  {
   "cell_type": "code",
   "execution_count": 538,
   "id": "71bd9699",
   "metadata": {},
   "outputs": [],
   "source": [
    "driver = webdriver.Chrome('/Users/mac/Downloads/chromedriver-mac-x64/chromedriver')"
   ]
  },
  {
   "cell_type": "code",
   "execution_count": 394,
   "id": "8829d6bf",
   "metadata": {},
   "outputs": [],
   "source": [
    "driver.get(\"https://www.amazon.in/\")"
   ]
  },
  {
   "cell_type": "code",
   "execution_count": 395,
   "id": "40014071",
   "metadata": {},
   "outputs": [
    {
     "name": "stdout",
     "output_type": "stream",
     "text": [
      "Enter product:guitar\n"
     ]
    }
   ],
   "source": [
    "Product= input(\"Enter product:\")\n",
    "SearchPro= driver.find_element(By.ID,\"twotabsearchtextbox\")\n",
    "SearchPro.send_keys(Product)\n",
    "SearchPro.click()"
   ]
  },
  {
   "cell_type": "code",
   "execution_count": 396,
   "id": "b7151be6",
   "metadata": {},
   "outputs": [],
   "source": [
    "#scrape all urls\n",
    "product_urls=[]\n",
    "start=0\n",
    "end=3\n",
    "for page in range(start,end):  #for loop for scrapping page3\n",
    "    url=driver.find_elements(By.XPATH,'//a[@class=\"a-link-normal s-no-hover s-underline-text s-underline-link-text s-link-style a-text-normal\"]')\n",
    "    url\n",
    "    for i in url:\n",
    "        product_urls.append(i.get_attribute(\"href\"))\n",
    "nxt_button= driver.find_element(By.XPATH,'//span[@class=\"s-pagination-item s-pagination-disabled\"]')\n",
    "nxt_button.click() \n",
    "    "
   ]
  },
  {
   "cell_type": "code",
   "execution_count": 397,
   "id": "7f8f9339",
   "metadata": {},
   "outputs": [
    {
     "data": {
      "text/plain": [
       "195"
      ]
     },
     "execution_count": 397,
     "metadata": {},
     "output_type": "execute_result"
    }
   ],
   "source": [
    "len(product_urls)"
   ]
  },
  {
   "cell_type": "code",
   "execution_count": 125,
   "id": "90b7ccb7",
   "metadata": {},
   "outputs": [],
   "source": []
  },
  {
   "cell_type": "code",
   "execution_count": 208,
   "id": "175e406b",
   "metadata": {},
   "outputs": [],
   "source": [
    "price=[]\n",
    "Pric=[]\n",
    "name=[]\n",
    "Name=[]\n",
    "availability=[]\n",
    "Availability=[]\n",
    "expectedDelivery=[]\n",
    "ExpectedDelivery=[]\n",
    "for url in product_urls:\n",
    "    driver.get(url)\n",
    "    \n",
    "    try:\n",
    "        price= driver.find_element(By.XPATH,'//span[@class=\"a-price-whole\"]')\n",
    "        Pric.append(price.text)\n",
    "    \n",
    "    except NoSuchElementException:\n",
    "        Pric.append('-')\n",
    "    \n",
    "    try: \n",
    "        name=driver.find_element(By.XPATH,'//span[@class=\"a-size-large product-title-word-break\"]')\n",
    "        Name.append(name.text)\n",
    "    \n",
    "    except NoSuchElementException:\n",
    "        Name.append('-')\n",
    "    \n",
    "    try:\n",
    "        availability= driver.find_element(By.XPATH,'//span[@class=\"a-size-base a-color-price a-text-bold\"]')\n",
    "        Availability.append(availability.text)\n",
    "    \n",
    "    except NoSuchElementException:\n",
    "        Availability.append('-')\n",
    "        \n",
    "    try:\n",
    "        expectedDelivery= driver.find_element(By.XPATH,'//div[@class=\"a-spacing-base\"]')\n",
    "        ExpectedDelivery.append(expectedDelivery.text)\n",
    "        \n",
    "    except NoSuchElementException:\n",
    "        ExpectedDelivery.append('-')\n",
    "    \n",
    "   \n"
   ]
  },
  {
   "cell_type": "code",
   "execution_count": 211,
   "id": "87e8720a",
   "metadata": {},
   "outputs": [
    {
     "data": {
      "text/html": [
       "<div>\n",
       "<style scoped>\n",
       "    .dataframe tbody tr th:only-of-type {\n",
       "        vertical-align: middle;\n",
       "    }\n",
       "\n",
       "    .dataframe tbody tr th {\n",
       "        vertical-align: top;\n",
       "    }\n",
       "\n",
       "    .dataframe thead th {\n",
       "        text-align: right;\n",
       "    }\n",
       "</style>\n",
       "<table border=\"1\" class=\"dataframe\">\n",
       "  <thead>\n",
       "    <tr style=\"text-align: right;\">\n",
       "      <th></th>\n",
       "      <th>Name</th>\n",
       "      <th>Price</th>\n",
       "      <th>Availibility</th>\n",
       "      <th>ExpectedDelivery</th>\n",
       "    </tr>\n",
       "  </thead>\n",
       "  <tbody>\n",
       "    <tr>\n",
       "      <th>0</th>\n",
       "      <td>Kadence rosewood Guitar Frontier Series, Elect...</td>\n",
       "      <td>5,499</td>\n",
       "      <td>-</td>\n",
       "      <td>FREE delivery Wednesday, 28 February. Details</td>\n",
       "    </tr>\n",
       "    <tr>\n",
       "      <th>1</th>\n",
       "      <td>Kadence Frontier guitar with Online Guitar lea...</td>\n",
       "      <td>4,499</td>\n",
       "      <td>-</td>\n",
       "      <td>FREE delivery Wednesday, 28 February. Details</td>\n",
       "    </tr>\n",
       "    <tr>\n",
       "      <th>2</th>\n",
       "      <td>-</td>\n",
       "      <td>-</td>\n",
       "      <td>-</td>\n",
       "      <td>-</td>\n",
       "    </tr>\n",
       "    <tr>\n",
       "      <th>3</th>\n",
       "      <td>Kadence Slowhand Premium Jumbo Semi Acoustic G...</td>\n",
       "      <td>9,999</td>\n",
       "      <td>-</td>\n",
       "      <td>FREE delivery Wednesday, 28 February. Details</td>\n",
       "    </tr>\n",
       "    <tr>\n",
       "      <th>4</th>\n",
       "      <td>Intern INT-38C Right hand Acoustic Guitar Kit,...</td>\n",
       "      <td>1,995</td>\n",
       "      <td>-</td>\n",
       "      <td>FREE delivery Wednesday, 28 February. Details</td>\n",
       "    </tr>\n",
       "    <tr>\n",
       "      <th>...</th>\n",
       "      <td>...</td>\n",
       "      <td>...</td>\n",
       "      <td>...</td>\n",
       "      <td>...</td>\n",
       "    </tr>\n",
       "    <tr>\n",
       "      <th>181</th>\n",
       "      <td>Samara SA39CE CS 39\" Cutaway Electro-Acoustic ...</td>\n",
       "      <td>6,900</td>\n",
       "      <td>Only 1 left in stock.</td>\n",
       "      <td>FREE delivery Saturday, 2 March. Details</td>\n",
       "    </tr>\n",
       "    <tr>\n",
       "      <th>182</th>\n",
       "      <td>Ketostics™ Venus Special Cutaway Rosewood 41 I...</td>\n",
       "      <td>4,499</td>\n",
       "      <td>-</td>\n",
       "      <td>FREE delivery Friday, 1 March. Order within 10...</td>\n",
       "    </tr>\n",
       "    <tr>\n",
       "      <th>183</th>\n",
       "      <td>Acoustic Guitar, 39 Inch Cutaway, 039C with Ba...</td>\n",
       "      <td>4,996</td>\n",
       "      <td>Only 1 left in stock.</td>\n",
       "      <td>FREE delivery Wednesday, 28 February. Order wi...</td>\n",
       "    </tr>\n",
       "    <tr>\n",
       "      <th>184</th>\n",
       "      <td>Ketostics® Givson Venus Special Guitar (RED) V...</td>\n",
       "      <td>4,199</td>\n",
       "      <td>-</td>\n",
       "      <td>FREE delivery Friday, 1 March. Order within 10...</td>\n",
       "    </tr>\n",
       "    <tr>\n",
       "      <th>185</th>\n",
       "      <td>Mackie Bundle Series (Studio)</td>\n",
       "      <td>43,699</td>\n",
       "      <td>Only 1 left in stock.</td>\n",
       "      <td>FREE delivery Wednesday, 28 February. Details</td>\n",
       "    </tr>\n",
       "  </tbody>\n",
       "</table>\n",
       "<p>186 rows × 4 columns</p>\n",
       "</div>"
      ],
      "text/plain": [
       "                                                  Name   Price  \\\n",
       "0    Kadence rosewood Guitar Frontier Series, Elect...   5,499   \n",
       "1    Kadence Frontier guitar with Online Guitar lea...   4,499   \n",
       "2                                                    -       -   \n",
       "3    Kadence Slowhand Premium Jumbo Semi Acoustic G...   9,999   \n",
       "4    Intern INT-38C Right hand Acoustic Guitar Kit,...   1,995   \n",
       "..                                                 ...     ...   \n",
       "181  Samara SA39CE CS 39\" Cutaway Electro-Acoustic ...   6,900   \n",
       "182  Ketostics™ Venus Special Cutaway Rosewood 41 I...   4,499   \n",
       "183  Acoustic Guitar, 39 Inch Cutaway, 039C with Ba...   4,996   \n",
       "184  Ketostics® Givson Venus Special Guitar (RED) V...   4,199   \n",
       "185                      Mackie Bundle Series (Studio)  43,699   \n",
       "\n",
       "              Availibility                                   ExpectedDelivery  \n",
       "0                        -      FREE delivery Wednesday, 28 February. Details  \n",
       "1                        -      FREE delivery Wednesday, 28 February. Details  \n",
       "2                        -                                                  -  \n",
       "3                        -      FREE delivery Wednesday, 28 February. Details  \n",
       "4                        -      FREE delivery Wednesday, 28 February. Details  \n",
       "..                     ...                                                ...  \n",
       "181  Only 1 left in stock.           FREE delivery Saturday, 2 March. Details  \n",
       "182                      -  FREE delivery Friday, 1 March. Order within 10...  \n",
       "183  Only 1 left in stock.  FREE delivery Wednesday, 28 February. Order wi...  \n",
       "184                      -  FREE delivery Friday, 1 March. Order within 10...  \n",
       "185  Only 1 left in stock.      FREE delivery Wednesday, 28 February. Details  \n",
       "\n",
       "[186 rows x 4 columns]"
      ]
     },
     "execution_count": 211,
     "metadata": {},
     "output_type": "execute_result"
    }
   ],
   "source": [
    "df= pd.DataFrame({'Name':Name, 'Price': Pric, 'Availibility': Availability, 'ExpectedDelivery':ExpectedDelivery})\n",
    "df\n"
   ]
  },
  {
   "cell_type": "markdown",
   "id": "65abbac0",
   "metadata": {},
   "source": [
    "# Question3\n",
    "Write a python program to access the search bar and search button on images.google.com and scrape 10 images each for keywords ‘fruits’, ‘cars’ and ‘Machine Learning’, ‘Guitar’, ‘Cakes’."
   ]
  },
  {
   "cell_type": "code",
   "execution_count": 314,
   "id": "7f3cd54d",
   "metadata": {},
   "outputs": [],
   "source": [
    "driver.get(\"https://www.google.com/imghp?hl=en&tab=ri&ogbl\")"
   ]
  },
  {
   "cell_type": "code",
   "execution_count": 292,
   "id": "6ca12e70",
   "metadata": {},
   "outputs": [],
   "source": [
    "SearchBar= driver.find_element(By.XPATH,'//textarea[@class=\"gLFyf\"]')\n",
    "SearchBar.send_keys(\"Cakes\")\n",
    "SearchBar.click()"
   ]
  },
  {
   "cell_type": "code",
   "execution_count": 294,
   "id": "62ccdde3",
   "metadata": {},
   "outputs": [
    {
     "name": "stdout",
     "output_type": "stream",
     "text": [
      "Downloading 0 of 10 images\n",
      "Downloading 1 of 10 images\n",
      "Downloading 2 of 10 images\n",
      "Downloading 3 of 10 images\n",
      "Downloading 4 of 10 images\n",
      "Downloading 5 of 10 images\n",
      "Downloading 6 of 10 images\n",
      "Downloading 7 of 10 images\n",
      "Downloading 8 of 10 images\n",
      "Downloading 9 of 10 images\n",
      "Downloading 10 of 10 images\n"
     ]
    }
   ],
   "source": [
    "for _ in range(20):\n",
    "    driver.execute_script(\"window.scrollBy(0,500)\")\n",
    "\n",
    "    \n",
    "img_urls=[]\n",
    "images= driver.find_elements(By.XPATH,'//img[@class=\"rg_i Q4LuWd\"]')\n",
    "\n",
    "for image in images:\n",
    "    source= image.get_attribute('src')\n",
    "    if source is not None:\n",
    "        if(source[0:4]=='http'):\n",
    "            img_urls.append(source)\n",
    "            \n",
    "    \n",
    "\n",
    "for i in range(len(img_urls)):\n",
    "    if i > 10:\n",
    "        break\n",
    "    print(\"Downloading {0} of {1} images\" .format(i,10))\n",
    "    response=requests.get(img_urls[i])\n",
    "    file= open(\"/Users/mac/Documents\"+str(i)+\".jpg\", \"wb\")\n",
    "    file.write(response.content)\n"
   ]
  },
  {
   "cell_type": "code",
   "execution_count": 299,
   "id": "8171fc24",
   "metadata": {},
   "outputs": [],
   "source": [
    "SearchBar= driver.find_element(By.XPATH,'//textarea[@class=\"gLFyf\"]')\n",
    "SearchBar.send_keys(\"MachineLearning\")\n",
    "SearchBar.click()"
   ]
  },
  {
   "cell_type": "code",
   "execution_count": 300,
   "id": "46e849d3",
   "metadata": {},
   "outputs": [
    {
     "name": "stdout",
     "output_type": "stream",
     "text": [
      "Downloading 0 of 10 images\n",
      "Downloading 1 of 10 images\n",
      "Downloading 2 of 10 images\n",
      "Downloading 3 of 10 images\n",
      "Downloading 4 of 10 images\n",
      "Downloading 5 of 10 images\n",
      "Downloading 6 of 10 images\n",
      "Downloading 7 of 10 images\n",
      "Downloading 8 of 10 images\n",
      "Downloading 9 of 10 images\n",
      "Downloading 10 of 10 images\n"
     ]
    }
   ],
   "source": [
    "for _ in range(20):\n",
    "    driver.execute_script(\"window.scrollBy(0,500)\")\n",
    "\n",
    "    \n",
    "img_urls=[]\n",
    "images= driver.find_elements(By.XPATH,'//img[@class=\"rg_i Q4LuWd\"]')\n",
    "\n",
    "for image in images:\n",
    "    source= image.get_attribute('src')\n",
    "    if source is not None:\n",
    "        if(source[0:4]=='http'):\n",
    "            img_urls.append(source)\n",
    "            \n",
    "    \n",
    "\n",
    "for i in range(len(img_urls)):\n",
    "    if i > 10:\n",
    "        break\n",
    "    print(\"Downloading {0} of {1} images\" .format(i,10))\n",
    "    response=requests.get(img_urls[i])\n",
    "    file= open(\"/Users/mac/Documents/DataScienceAndMachineLearningBootcamp\" +str(i)+\".jpg\", \"wb\")\n",
    "    file.write(response.content)"
   ]
  },
  {
   "cell_type": "code",
   "execution_count": 315,
   "id": "3d8b727a",
   "metadata": {},
   "outputs": [],
   "source": [
    "SearchBar= driver.find_element(By.XPATH,'//textarea[@class=\"gLFyf\"]')\n",
    "SearchBar.send_keys(\"Fruit\")\n",
    "SearchBar.click()"
   ]
  },
  {
   "cell_type": "code",
   "execution_count": 316,
   "id": "b34713f3",
   "metadata": {},
   "outputs": [
    {
     "name": "stdout",
     "output_type": "stream",
     "text": [
      "Downloading 0 of 10 images\n",
      "Downloading 1 of 10 images\n",
      "Downloading 2 of 10 images\n",
      "Downloading 3 of 10 images\n",
      "Downloading 4 of 10 images\n",
      "Downloading 5 of 10 images\n",
      "Downloading 6 of 10 images\n",
      "Downloading 7 of 10 images\n",
      "Downloading 8 of 10 images\n",
      "Downloading 9 of 10 images\n",
      "Downloading 10 of 10 images\n"
     ]
    }
   ],
   "source": [
    "for _ in range(20):\n",
    "    driver.execute_script(\"window.scrollBy(0,500)\")\n",
    "\n",
    "    \n",
    "img_urls=[]\n",
    "images= driver.find_elements(By.XPATH,'//img[@class=\"rg_i Q4LuWd\"]')\n",
    "\n",
    "for image in images:\n",
    "    source= image.get_attribute('src')\n",
    "    if source is not None:\n",
    "        if(source[0:4]=='http'):\n",
    "            img_urls.append(source)\n",
    "            \n",
    "    \n",
    "\n",
    "for i in range(len(img_urls)):\n",
    "    if i > 10:\n",
    "        break\n",
    "    print(\"Downloading {0} of {1} images\" .format(i,10))\n",
    "    response=requests.get(img_urls[i])\n",
    "    file= open(\"/Users/mac/Documents/DataScienceAndMachineLearningBootcamp\" +str(i)+\".jpg\", \"wb\")\n",
    "    file.write(response.content)"
   ]
  },
  {
   "cell_type": "markdown",
   "id": "9d744c0d",
   "metadata": {},
   "source": [
    "# Question5\n"
   ]
  },
  {
   "cell_type": "markdown",
   "id": "39ba455a",
   "metadata": {},
   "source": [
    "Write a program to scrap geospatial coordinates (latitude, longitude) of a city searched on google maps."
   ]
  },
  {
   "cell_type": "code",
   "execution_count": 319,
   "id": "462f61ef",
   "metadata": {},
   "outputs": [],
   "source": [
    "driver.get(\"https://www.google.com/maps/@53.4249472,-2.1921792,14z?entry=ttu\")"
   ]
  },
  {
   "cell_type": "code",
   "execution_count": 322,
   "id": "a1525156",
   "metadata": {},
   "outputs": [],
   "source": [
    "SearchBar= driver.find_element(By.XPATH,'//input[@jslog=\"11886\"]')\n",
    "SearchBar.send_keys(\"Manchester\")"
   ]
  },
  {
   "cell_type": "code",
   "execution_count": 329,
   "id": "a213bc98",
   "metadata": {},
   "outputs": [
    {
     "name": "stdout",
     "output_type": "stream",
     "text": [
      "URL Extracted:  https://www.google.com/maps/place/Manchester/@53.4722454,-2.2234628,11z/data=!3m1!4b1!4m6!3m5!1s0x487a4d4c5226f5db:0xd9be143804fe6baa!8m2!3d53.4807593!4d-2.2426305!16zL20vMDUyYnc?entry=ttu\n"
     ]
    },
    {
     "data": {
      "text/plain": [
       "['53.4722454,-2.2234628,11z/']"
      ]
     },
     "execution_count": 329,
     "metadata": {},
     "output_type": "execute_result"
    }
   ],
   "source": [
    "import re\n",
    "url_string= driver.current_url\n",
    "print(\"URL Extracted: \", url_string)\n",
    "lat_lang= re.findall(r'@(.*)data', url_string)\n",
    "lat_lang\n"
   ]
  },
  {
   "cell_type": "markdown",
   "id": "5ea5bd3c",
   "metadata": {},
   "source": [
    "# Question 6\n"
   ]
  },
  {
   "cell_type": "markdown",
   "id": "4420d517",
   "metadata": {},
   "source": [
    "Write a program to scrap all the available details of best gaming laptops from digit.in"
   ]
  },
  {
   "cell_type": "code",
   "execution_count": 421,
   "id": "dc3b5be9",
   "metadata": {},
   "outputs": [],
   "source": [
    "driver.get(\"https://www.digit.in/top-products/best-gaming-laptops-40.html\")\n"
   ]
  },
  {
   "cell_type": "code",
   "execution_count": 422,
   "id": "ad522059",
   "metadata": {},
   "outputs": [],
   "source": [
    "laptop_urls=[]\n",
    "\n",
    "url = driver.find_elements(By.XPATH,'//h3[@class=\"font130 mt0 mb10 mobilesblockdisplay \"]/a')\n",
    "for i in url:\n",
    "        laptop_urls.append(i.get_attribute(\"href\"))\n"
   ]
  },
  {
   "cell_type": "code",
   "execution_count": 423,
   "id": "a96be3b1",
   "metadata": {},
   "outputs": [
    {
     "data": {
      "text/plain": [
       "7"
      ]
     },
     "execution_count": 423,
     "metadata": {},
     "output_type": "execute_result"
    }
   ],
   "source": [
    "len(laptop_urls)"
   ]
  },
  {
   "cell_type": "code",
   "execution_count": 427,
   "id": "5735ffc9",
   "metadata": {},
   "outputs": [],
   "source": [
    "spec=[]\n",
    "Spec=[]\n",
    "\n",
    "for url in laptop_urls:\n",
    "    driver.get(url)\n",
    "    \n",
    "    try:\n",
    "        spec= driver.find_element(By.XPATH,'')\n",
    "        Spec.append(spec.text)\n",
    "    \n",
    "    except NoSuchElementException:\n",
    "        Spec.append('-')"
   ]
  },
  {
   "cell_type": "code",
   "execution_count": 446,
   "id": "b7f74040",
   "metadata": {},
   "outputs": [
    {
     "data": {
      "text/plain": [
       "['Operating System (With\\nWindows 11 Home',\n",
       " '-',\n",
       " 'Operating System (With\\nWindows 11 Home',\n",
       " '-',\n",
       " 'Operating System (With\\nWindows 11 Home',\n",
       " '-',\n",
       " '-']"
      ]
     },
     "execution_count": 446,
     "metadata": {},
     "output_type": "execute_result"
    }
   ],
   "source": [
    "len(Spec)\n",
    "Spec"
   ]
  },
  {
   "cell_type": "markdown",
   "id": "0346fa7c",
   "metadata": {},
   "source": [
    "# Question7\n",
    "\n",
    "Write a python program to scrape the details for all billionaires from www.forbes.com. Details to be scrapped:\n",
    "“Rank”, “Name”, “Net worth”, “Age”, “Citizenship”, “Source”, “Industry”."
   ]
  },
  {
   "cell_type": "code",
   "execution_count": 479,
   "id": "72c03243",
   "metadata": {},
   "outputs": [],
   "source": [
    "driver.get('https://www.forbes.com/billionaires/')"
   ]
  },
  {
   "cell_type": "code",
   "execution_count": 510,
   "id": "b629e2f9",
   "metadata": {},
   "outputs": [
    {
     "data": {
      "text/plain": [
       "<selenium.webdriver.remote.webelement.WebElement (session=\"706bcf722c1f530a206394868d6ca03f\", element=\"29507F4DB63258289011B090936671FB_element_553\")>"
      ]
     },
     "execution_count": 510,
     "metadata": {},
     "output_type": "execute_result"
    }
   ],
   "source": [
    "Billionare=[]\n",
    "comp=[]\n",
    "Comp=[]\n",
    "comp=driver.find_element(By.XPATH,'//div[@class=\"Table_netWorth___L4R5 Table_dataCell__2QCve\"]')\n",
    "comp\n"
   ]
  },
  {
   "cell_type": "code",
   "execution_count": 505,
   "id": "6b25613e",
   "metadata": {},
   "outputs": [
    {
     "data": {
      "text/plain": [
       "[]"
      ]
     },
     "execution_count": 505,
     "metadata": {},
     "output_type": "execute_result"
    }
   ],
   "source": [
    "Comp"
   ]
  },
  {
   "cell_type": "markdown",
   "id": "2f48ce67",
   "metadata": {},
   "source": [
    "# Question8\n",
    "Write a program to extract at least 500 Comments, Comment upvote and time when comment was posted\n",
    "from any YouTube Video."
   ]
  },
  {
   "cell_type": "code",
   "execution_count": 516,
   "id": "d17ddbef",
   "metadata": {},
   "outputs": [],
   "source": [
    "driver.get('https://www.youtube.com/watch?v=Xjv1sY630Uc')\n",
    "\n",
    "\n",
    "for _ in range(20):\n",
    "    driver.execute_script(\"window.scrollBy(0,500)\")\n",
    "\n",
    "    \n",
    "comm=[]\n",
    "comments= driver.find_elements(By.XPATH,'//yt-formatted-string[@id=\"content-text\"]')\n",
    "for i in comments:\n",
    "    c= i.text\n",
    "    comm.append(c)\n",
    "    \n"
   ]
  },
  {
   "cell_type": "code",
   "execution_count": 517,
   "id": "8aa04940",
   "metadata": {},
   "outputs": [
    {
     "data": {
      "text/plain": [
       "['You, my friend, will go down in history as a legend',\n",
       " \"Clear, concise. Great stuff, thanks so much. It's dev's like you on YouTube and more that [literally] make the world go 'round. Appreciate this series!\",\n",
       " 'I was just getting into web scraping, then you dropped this tutorial! Perfect timing.',\n",
       " \"Sunday after lunch (in Poland) I was just about to sit down to study and here's a new tutorial. Perfect timing\",\n",
       " \"I've never watched a so clear tutorial. Fantastic tutorial!\",\n",
       " \"I've used Selenium for automating multiple routine tasks at my work. It is saving lots of time for me.\\nThanks for this series Tim, it'll be good brush up for me.\",\n",
       " \"I think you are the best teacher for python. I learned a lot from your beginner's python course (4hours) and now I hope to learn more from this course. Thank you.\",\n",
       " 'Bro you are great, I thought of making a selenium project today and you started a new series on it. Love you a lot !!',\n",
       " 'This is a very detailed tutorial on intro to web scraping using Python, well done Tim!',\n",
       " 'My God, thank you for making a series in selenium',\n",
       " 'awesone tim that was a great tutorial, i like how u ran through everything that couldve went wrong and showed people how to fix it',\n",
       " 'I just made a tinder auto swiping bot yesterday and was thinking to learn more about selenium and this video pops up. Great timing and awesome videos man! Keep up the good work.',\n",
       " 'Started learning selenium python today and this is really helpful, simple and easy to learn. Thanks a lot!',\n",
       " 'What i was trying to setup for 2+ hours with that chromedriver,solved in 5 min effort ,with this video (rookie over here!)That made my day!!!',\n",
       " 'this is really great Tim, thanks a lot, very concise and up to details, less garbage talks, very focused on the topic.\\nthanks',\n",
       " \"My man. A million subscribers. It's been a long time coming. Keep up the great work.\",\n",
       " 'Great explanations, easy to follow, just what I needed to get started. Definitely earned my subscription. Thanks man.',\n",
       " 'Time ago i was starting to understand Slenium! and now we have your selenium tutorial!! YEEES!',\n",
       " \"Love your videos Tim, so well presented.  Thank you you're really helping me as a newbie Python programmer.\",\n",
       " 'Spent two hours on Friday evening to find solution to initial setup. I can have a cold beer now. Thanks. You rock!']"
      ]
     },
     "execution_count": 517,
     "metadata": {},
     "output_type": "execute_result"
    }
   ],
   "source": [
    "comm"
   ]
  },
  {
   "cell_type": "markdown",
   "id": "121202d4",
   "metadata": {},
   "source": [
    "# Question 9\n",
    "\n",
    "Write a python program to scrape a data for all available Hostels from https://www.hostelworld.com/ in\n",
    "“London” location. You have to scrape hostel name, distance from city centre, ratings, total reviews, overall reviews, privates from price, dorms from price, facilities and property description.\n",
    " "
   ]
  },
  {
   "cell_type": "code",
   "execution_count": 525,
   "id": "84032234",
   "metadata": {},
   "outputs": [],
   "source": [
    "driver.get('https://www.hostelworld.com/pwa/wds/s?q=London,%20England&country=London&city=London&type=city&id=3&from=2024-02-27&to=2024-03-01&guests=2&page=1')"
   ]
  },
  {
   "cell_type": "code",
   "execution_count": 536,
   "id": "676d9ea8",
   "metadata": {},
   "outputs": [
    {
     "name": "stdout",
     "output_type": "stream",
     "text": [
      "30\n"
     ]
    }
   ],
   "source": [
    "HostelName=[]\n",
    "Distance=[]\n",
    "name= driver.find_elements(By.XPATH,'//div[@class=\"property-name\"]')\n",
    "for i in range(30):\n",
    "    n=name[i].text\n",
    "    try:\n",
    "        HostelName.append(n)\n",
    "    except NoSuchElementException:\n",
    "        HostelName.append('-')\n",
    "\n",
    "    \n",
    "\n",
    "\n",
    "    \n",
    "print(len(HostelName))\n"
   ]
  },
  {
   "cell_type": "code",
   "execution_count": 533,
   "id": "9453fea4",
   "metadata": {},
   "outputs": [
    {
     "data": {
      "text/plain": [
       "30"
      ]
     },
     "execution_count": 533,
     "metadata": {},
     "output_type": "execute_result"
    }
   ],
   "source": [
    "dist=driver.find_elements(By.XPATH,'//span[@class=\"distance-description\"]')\n",
    "for i in dist:\n",
    "    d= i.text\n",
    "    try:\n",
    "        Distance.append(d)\n",
    "    except NoSuchElementException:\n",
    "        Distance.append('-')\n",
    "        \n",
    "\n",
    "        \n",
    "len(Distance)"
   ]
  },
  {
   "cell_type": "markdown",
   "id": "b2c61410",
   "metadata": {},
   "source": [
    "# Question no 4\n",
    "Write a python program to search for a smartphone(e.g.: Oneplus Nord, pixel 4A, etc.) on www.flipkart.com and scrape following details for all the search results displayed on 1st page. Details to be scraped: “Brand Name”, “Smartphone name”, “Colour”, “RAM”, “Storage(ROM)”, “Primary Camera”,"
   ]
  },
  {
   "cell_type": "code",
   "execution_count": 539,
   "id": "89578e46",
   "metadata": {},
   "outputs": [],
   "source": [
    "driver.get(\"https://www.flipkart.com/\")"
   ]
  },
  {
   "cell_type": "code",
   "execution_count": 541,
   "id": "54386f72",
   "metadata": {},
   "outputs": [],
   "source": [
    "searchBar= driver.find_element(By.XPATH,'//input[@class=\"Pke_EE\"]')\n",
    "searchBar.send_keys('Oneplus Nord')\n",
    "searchBar.click()"
   ]
  },
  {
   "cell_type": "code",
   "execution_count": 544,
   "id": "124b2c68",
   "metadata": {},
   "outputs": [],
   "source": [
    "Phone_urls=[]\n",
    "Purl= driver.find_elements(By.XPATH,'//a[@class=\"_1fQZEK\"]')\n",
    "for i in Purl:\n",
    "    \n",
    "    Phone_urls.append(i.get_attribute(\"href\"))\n"
   ]
  },
  {
   "cell_type": "code",
   "execution_count": 545,
   "id": "b724606b",
   "metadata": {},
   "outputs": [
    {
     "data": {
      "text/plain": [
       "24"
      ]
     },
     "execution_count": 545,
     "metadata": {},
     "output_type": "execute_result"
    }
   ],
   "source": [
    "len(Phone_urls)"
   ]
  },
  {
   "cell_type": "code",
   "execution_count": 549,
   "id": "0313d598",
   "metadata": {},
   "outputs": [],
   "source": [
    "name=[]\n",
    "SmartPhoneName=[]\n",
    "color=[]\n",
    "Color=[]\n",
    "highlights=[]\n",
    "Highlights=[]\n",
    "price=[]\n",
    "Price=[]\n",
    "\n",
    "\n",
    "for Purl in Phone_urls:\n",
    "    driver.get(Purl)\n",
    "    \n",
    "    try:\n",
    "        name= driver.find_element(By.XPATH,'//span[@class=\"B_NuCI\"]')\n",
    "        SmartPhoneName.append(name.text)\n",
    "    \n",
    "    except NoSuchElementException:\n",
    "        SmartPhoneName.append('-')\n",
    "    \n",
    "    try:\n",
    "        color=driver.find_element(By.XPATH,'//div[@class=\"_2C41yO\"]')\n",
    "        Color.append(color.text)\n",
    "    except NoSuchElementException:\n",
    "        Color.append('-')\n",
    "    \n",
    "    try: \n",
    "        highlights= driver.find_element(By.XPATH,'//div[@class=\"_2418kt\"]/ul/li')\n",
    "        Highlights.append(highlights.text)\n",
    "    except NoSuchElementException:\n",
    "        Highlights.append('-')\n",
    "    \n",
    "    try:\n",
    "        price= driver.find_element(By.XPATH,'//div[@class=\"_30jeq3 _16Jk6d\"]')\n",
    "        Price.append(price.text)\n",
    "    except NoSuchElementException:\n",
    "        Price.append('-')\n",
    "        "
   ]
  },
  {
   "cell_type": "code",
   "execution_count": null,
   "id": "26e9da8c",
   "metadata": {},
   "outputs": [],
   "source": []
  },
  {
   "cell_type": "code",
   "execution_count": null,
   "id": "c65adec6",
   "metadata": {},
   "outputs": [],
   "source": []
  }
 ],
 "metadata": {
  "kernelspec": {
   "display_name": "Python 3 (ipykernel)",
   "language": "python",
   "name": "python3"
  },
  "language_info": {
   "codemirror_mode": {
    "name": "ipython",
    "version": 3
   },
   "file_extension": ".py",
   "mimetype": "text/x-python",
   "name": "python",
   "nbconvert_exporter": "python",
   "pygments_lexer": "ipython3",
   "version": "3.11.5"
  }
 },
 "nbformat": 4,
 "nbformat_minor": 5
}
