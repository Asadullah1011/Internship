{
 "cells": [
  {
   "cell_type": "code",
   "execution_count": 521,
   "id": "1d54c12f",
   "metadata": {},
   "outputs": [],
   "source": [
    "import selenium\n",
    "import pandas as pd\n",
    "from selenium import webdriver\n",
    "import warnings\n",
    "warnings.filterwarnings('ignore')\n",
    "from selenium.webdriver.common.by import By\n",
    "import time"
   ]
  },
  {
   "cell_type": "code",
   "execution_count": 522,
   "id": "dd5ae7fe",
   "metadata": {},
   "outputs": [],
   "source": [
    "driver = webdriver.Chrome('/Users/mac/Downloads/chromedriver-mac-x64/chromedriver')"
   ]
  },
  {
   "cell_type": "code",
   "execution_count": 475,
   "id": "7410b057",
   "metadata": {},
   "outputs": [],
   "source": [
    "#Open webpage\n",
    "driver.get(\"https://www.shine.com/\")"
   ]
  },
  {
   "cell_type": "code",
   "execution_count": 268,
   "id": "2d6f9a97",
   "metadata": {},
   "outputs": [],
   "source": [
    "#Enter Designation by ID\n",
    "designation = driver.find_element(By.ID,\"id_q\")\n",
    "designation.send_keys('Data Analyst')"
   ]
  },
  {
   "cell_type": "code",
   "execution_count": 269,
   "id": "29de49db",
   "metadata": {},
   "outputs": [],
   "source": [
    "#Enter loctaion by Xpath\n",
    "location = driver.find_element(By.XPATH,\"/html/body/div/div[4]/div/div[2]/div[2]/div/form/div/div[1]/ul/li[2]/div/input\")\n",
    "location.send_keys('Bangalore')"
   ]
  },
  {
   "cell_type": "code",
   "execution_count": 272,
   "id": "ded55dff",
   "metadata": {},
   "outputs": [],
   "source": [
    "#Click the search button\n",
    "search= driver.find_element(By.CLASS_NAME,\"searchForm_btnWrap_advance__VYBHN\")\n",
    "search.click()"
   ]
  },
  {
   "cell_type": "code",
   "execution_count": 228,
   "id": "222a8d08",
   "metadata": {},
   "outputs": [],
   "source": []
  },
  {
   "cell_type": "code",
   "execution_count": 285,
   "id": "932f3900",
   "metadata": {},
   "outputs": [
    {
     "name": "stdout",
     "output_type": "stream",
     "text": [
      "10\n"
     ]
    }
   ],
   "source": [
    "#Scrape Job titles\n",
    "Job_Title=[]\n",
    "job_titles = driver.find_elements_by_xpath('//h2[@itemprop=\"name\"]')\n",
    "\n",
    "for i in range(10):\n",
    "    title=job_title[i]\n",
    "    Job_Title.append(title)\n",
    "    \n",
    "    \n",
    "print(len(Job_Title))\n",
    "    "
   ]
  },
  {
   "cell_type": "code",
   "execution_count": 282,
   "id": "bbe4da48",
   "metadata": {},
   "outputs": [
    {
     "name": "stdout",
     "output_type": "stream",
     "text": [
      "10\n"
     ]
    }
   ],
   "source": [
    "#Scrape 10 Company names\n",
    "name= driver.find_elements(By.XPATH,'//div[@class=\"jobCard_jobCard_cName__mYnow\"]/span')\n",
    "Company_name=[]\n",
    "for i in range(10):\n",
    "    cname= name[i].text\n",
    "    Company_name.append(cname)\n",
    "    \n",
    "    \n",
    "print(len(Company_name))\n",
    "    "
   ]
  },
  {
   "cell_type": "code",
   "execution_count": 281,
   "id": "1f9e5d9c",
   "metadata": {},
   "outputs": [
    {
     "name": "stdout",
     "output_type": "stream",
     "text": [
      "10\n"
     ]
    }
   ],
   "source": [
    "# Scrape 10 company location\n",
    "loc = driver.find_elements(By.XPATH,'//div[@class=\" jobCard_jobCard_lists_item__YxRkV jobCard_locationIcon__zrWt2\"]')\n",
    "Location=[]\n",
    "for i in range(10):\n",
    "    cloc= loc[i].text\n",
    "    Location.append(cloc)\n",
    "    \n",
    "    \n",
    "print(len(Location))\n"
   ]
  },
  {
   "cell_type": "code",
   "execution_count": 280,
   "id": "7e82301f",
   "metadata": {},
   "outputs": [
    {
     "name": "stdout",
     "output_type": "stream",
     "text": [
      "10\n"
     ]
    }
   ],
   "source": [
    "#Scrpae experience \n",
    "exp= driver.find_elements(By.XPATH,'//div[@class=\" jobCard_jobCard_lists_item__YxRkV jobCard_jobIcon__3FB1t\"]')\n",
    "Experience=[]\n",
    "for i in range(10):\n",
    "    cexp=exp[i].text\n",
    "    Experience.append(cexp)\n",
    "    \n",
    "print(len(Experience))"
   ]
  },
  {
   "cell_type": "code",
   "execution_count": 288,
   "id": "ae707eed",
   "metadata": {},
   "outputs": [
    {
     "data": {
      "text/html": [
       "<div>\n",
       "<style scoped>\n",
       "    .dataframe tbody tr th:only-of-type {\n",
       "        vertical-align: middle;\n",
       "    }\n",
       "\n",
       "    .dataframe tbody tr th {\n",
       "        vertical-align: top;\n",
       "    }\n",
       "\n",
       "    .dataframe thead th {\n",
       "        text-align: right;\n",
       "    }\n",
       "</style>\n",
       "<table border=\"1\" class=\"dataframe\">\n",
       "  <thead>\n",
       "    <tr style=\"text-align: right;\">\n",
       "      <th></th>\n",
       "      <th>Title</th>\n",
       "      <th>Location</th>\n",
       "      <th>Company_Name</th>\n",
       "      <th>Experience_Required</th>\n",
       "    </tr>\n",
       "  </thead>\n",
       "  <tbody>\n",
       "    <tr>\n",
       "      <th>0</th>\n",
       "      <td>Data Analyst</td>\n",
       "      <td>Bangalore</td>\n",
       "      <td>ara resources private limited</td>\n",
       "      <td>4 to 9 Yrs</td>\n",
       "    </tr>\n",
       "    <tr>\n",
       "      <th>1</th>\n",
       "      <td>Vacancy For Data Analyst</td>\n",
       "      <td>Bangalore\\n+3</td>\n",
       "      <td>diraa hr services hiring for mncs</td>\n",
       "      <td>0 to 1 Yr</td>\n",
       "    </tr>\n",
       "    <tr>\n",
       "      <th>2</th>\n",
       "      <td>Clinical Data Analyst</td>\n",
       "      <td>Bangalore\\n+14</td>\n",
       "      <td>yogita staffing solution</td>\n",
       "      <td>0 to 3 Yrs</td>\n",
       "    </tr>\n",
       "    <tr>\n",
       "      <th>3</th>\n",
       "      <td>Data Entry Executive, Non voice process, data ...</td>\n",
       "      <td>Bangalore\\n+6</td>\n",
       "      <td>techno endura</td>\n",
       "      <td>0 to 1 Yr</td>\n",
       "    </tr>\n",
       "    <tr>\n",
       "      <th>4</th>\n",
       "      <td>Clinical Data Analyst</td>\n",
       "      <td>Bangalore</td>\n",
       "      <td>boyen haddin consulting and technol...</td>\n",
       "      <td>3 to 6 Yrs</td>\n",
       "    </tr>\n",
       "    <tr>\n",
       "      <th>5</th>\n",
       "      <td>Data Engineer Ii</td>\n",
       "      <td>Bangalore\\n+18</td>\n",
       "      <td>future solution centre</td>\n",
       "      <td>15 to &gt;25 Yrs</td>\n",
       "    </tr>\n",
       "    <tr>\n",
       "      <th>6</th>\n",
       "      <td>Junior Clinical Data Management</td>\n",
       "      <td>Bangalore\\n+9</td>\n",
       "      <td>pick bright hr solution</td>\n",
       "      <td>1 to 2 Yrs</td>\n",
       "    </tr>\n",
       "    <tr>\n",
       "      <th>7</th>\n",
       "      <td>Data Scientist</td>\n",
       "      <td>Bangalore</td>\n",
       "      <td>boyen haddin consulting and technol...</td>\n",
       "      <td>3 to 6 Yrs</td>\n",
       "    </tr>\n",
       "    <tr>\n",
       "      <th>8</th>\n",
       "      <td>Hiring for Business Analyst</td>\n",
       "      <td>Bangalore</td>\n",
       "      <td>boyen haddin consulting and technol...</td>\n",
       "      <td>3 to 6 Yrs</td>\n",
       "    </tr>\n",
       "    <tr>\n",
       "      <th>9</th>\n",
       "      <td>Hiring for Business Analyst</td>\n",
       "      <td>Bangalore</td>\n",
       "      <td>boyen haddin consulting and technol...</td>\n",
       "      <td>3 to 6 Yrs</td>\n",
       "    </tr>\n",
       "  </tbody>\n",
       "</table>\n",
       "</div>"
      ],
      "text/plain": [
       "                                               Title        Location  \\\n",
       "0                                       Data Analyst       Bangalore   \n",
       "1                           Vacancy For Data Analyst   Bangalore\\n+3   \n",
       "2                              Clinical Data Analyst  Bangalore\\n+14   \n",
       "3  Data Entry Executive, Non voice process, data ...   Bangalore\\n+6   \n",
       "4                              Clinical Data Analyst       Bangalore   \n",
       "5                                   Data Engineer Ii  Bangalore\\n+18   \n",
       "6                    Junior Clinical Data Management   Bangalore\\n+9   \n",
       "7                                     Data Scientist       Bangalore   \n",
       "8                        Hiring for Business Analyst       Bangalore   \n",
       "9                        Hiring for Business Analyst       Bangalore   \n",
       "\n",
       "                             Company_Name Experience_Required  \n",
       "0           ara resources private limited          4 to 9 Yrs  \n",
       "1       diraa hr services hiring for mncs           0 to 1 Yr  \n",
       "2                yogita staffing solution          0 to 3 Yrs  \n",
       "3                           techno endura           0 to 1 Yr  \n",
       "4  boyen haddin consulting and technol...          3 to 6 Yrs  \n",
       "5                  future solution centre       15 to >25 Yrs  \n",
       "6                 pick bright hr solution          1 to 2 Yrs  \n",
       "7  boyen haddin consulting and technol...          3 to 6 Yrs  \n",
       "8  boyen haddin consulting and technol...          3 to 6 Yrs  \n",
       "9  boyen haddin consulting and technol...          3 to 6 Yrs  "
      ]
     },
     "execution_count": 288,
     "metadata": {},
     "output_type": "execute_result"
    }
   ],
   "source": [
    "#Create data frame and print\n",
    "df= pd.DataFrame({'Title':Job_Title, 'Location': Location, 'Company_Name': Company_name, 'Experience_Required': Experience })\n",
    "df"
   ]
  },
  {
   "cell_type": "code",
   "execution_count": 308,
   "id": "0fb0103f",
   "metadata": {},
   "outputs": [],
   "source": [
    "#Enter Designation by ID\n",
    "designation = driver.find_element(By.ID,\"id_q\")\n",
    "designation.send_keys('Data Scientist')"
   ]
  },
  {
   "cell_type": "code",
   "execution_count": 310,
   "id": "bbf80d69",
   "metadata": {},
   "outputs": [],
   "source": [
    "#Enter loctaion by Xpath\n",
    "location = driver.find_element(By.XPATH,\"/html/body/div/div[4]/div/div[2]/div[2]/div/form/div/div[1]/ul/li[2]/div/input\")\n",
    "location.send_keys('Bangalore')"
   ]
  },
  {
   "cell_type": "code",
   "execution_count": 311,
   "id": "986f2933",
   "metadata": {},
   "outputs": [],
   "source": [
    "#Click the search button\n",
    "search= driver.find_element(By.CLASS_NAME,\"searchForm_btnWrap_advance__VYBHN\")\n",
    "search.click()"
   ]
  },
  {
   "cell_type": "code",
   "execution_count": 328,
   "id": "282e9734",
   "metadata": {},
   "outputs": [
    {
     "name": "stdout",
     "output_type": "stream",
     "text": [
      "10\n"
     ]
    }
   ],
   "source": [
    "#Scrape Job Titles\n",
    "jobTitles=[]\n",
    "titles= driver.find_elements(By.XPATH,'//h2[@itemprop=\"name\"]')\n",
    "for i in range(10):\n",
    "    tit= titles[i].text\n",
    "    jobTitles.append(tit)\n",
    "    \n",
    "print(len(jobTitles))"
   ]
  },
  {
   "cell_type": "code",
   "execution_count": 329,
   "id": "430ef9fe",
   "metadata": {},
   "outputs": [
    {
     "name": "stdout",
     "output_type": "stream",
     "text": [
      "10\n"
     ]
    }
   ],
   "source": [
    "#Scrape Location\n",
    "\n",
    "location=[]\n",
    "Jobloc=  driver.find_elements(By.XPATH,'//div[@class=\" jobCard_jobCard_lists_item__YxRkV jobCard_locationIcon__zrWt2\"]')\n",
    "for i in range(10):\n",
    "    loc= Jobloc[i].text\n",
    "    location.append(loc)\n",
    "    \n",
    "    \n",
    "print(len(location))"
   ]
  },
  {
   "cell_type": "code",
   "execution_count": 332,
   "id": "73acf5fd",
   "metadata": {},
   "outputs": [
    {
     "name": "stdout",
     "output_type": "stream",
     "text": [
      "10\n"
     ]
    }
   ],
   "source": [
    "#Scrape Company names\n",
    "\n",
    "CompanyName=[]\n",
    "cname= driver.find_elements(By.XPATH,'//div[@class=\"jobCard_jobCard_cName__mYnow\"]')\n",
    "for i in range(10):\n",
    "    Compnay_name= cname[i].text\n",
    "    CompanyName.append(Compnay_name)\n",
    "\n",
    "print(len(CompanyName))"
   ]
  },
  {
   "cell_type": "code",
   "execution_count": 333,
   "id": "c4ccb9c7",
   "metadata": {},
   "outputs": [
    {
     "data": {
      "text/html": [
       "<div>\n",
       "<style scoped>\n",
       "    .dataframe tbody tr th:only-of-type {\n",
       "        vertical-align: middle;\n",
       "    }\n",
       "\n",
       "    .dataframe tbody tr th {\n",
       "        vertical-align: top;\n",
       "    }\n",
       "\n",
       "    .dataframe thead th {\n",
       "        text-align: right;\n",
       "    }\n",
       "</style>\n",
       "<table border=\"1\" class=\"dataframe\">\n",
       "  <thead>\n",
       "    <tr style=\"text-align: right;\">\n",
       "      <th></th>\n",
       "      <th>Title</th>\n",
       "      <th>Location</th>\n",
       "      <th>Company_Name</th>\n",
       "    </tr>\n",
       "  </thead>\n",
       "  <tbody>\n",
       "    <tr>\n",
       "      <th>0</th>\n",
       "      <td>Data Scientist</td>\n",
       "      <td>Bangalore\\n+8</td>\n",
       "      <td>techno endura</td>\n",
       "    </tr>\n",
       "    <tr>\n",
       "      <th>1</th>\n",
       "      <td>ML Data Scientist</td>\n",
       "      <td>Bangalore\\n+3</td>\n",
       "      <td>gujarat facility services hiring fo...</td>\n",
       "    </tr>\n",
       "    <tr>\n",
       "      <th>2</th>\n",
       "      <td>Data Scientist Urgent Vacancy</td>\n",
       "      <td>Bangalore\\n+15</td>\n",
       "      <td>renuka interprises</td>\n",
       "    </tr>\n",
       "    <tr>\n",
       "      <th>3</th>\n",
       "      <td>Data Scientist Recruitment</td>\n",
       "      <td>Bangalore\\n+15</td>\n",
       "      <td>renuka interprises</td>\n",
       "    </tr>\n",
       "    <tr>\n",
       "      <th>4</th>\n",
       "      <td>Data Scientist Recruitment</td>\n",
       "      <td>Bangalore\\n+15</td>\n",
       "      <td>renuka interprises</td>\n",
       "    </tr>\n",
       "    <tr>\n",
       "      <th>5</th>\n",
       "      <td>Data Scientist</td>\n",
       "      <td>Bangalore\\n+4</td>\n",
       "      <td>acme services private limited</td>\n",
       "    </tr>\n",
       "    <tr>\n",
       "      <th>6</th>\n",
       "      <td>Data Scientist</td>\n",
       "      <td>Bangalore</td>\n",
       "      <td>ltimindtree limited</td>\n",
       "    </tr>\n",
       "    <tr>\n",
       "      <th>7</th>\n",
       "      <td>Lead Data Scientist/ Principal Data Scientist</td>\n",
       "      <td>Bangalore\\n+1</td>\n",
       "      <td>fractal</td>\n",
       "    </tr>\n",
       "    <tr>\n",
       "      <th>8</th>\n",
       "      <td>Vacancy For Data Scientist Fresher and Experience</td>\n",
       "      <td>Bangalore\\n+14</td>\n",
       "      <td>yogita staffing solution</td>\n",
       "    </tr>\n",
       "    <tr>\n",
       "      <th>9</th>\n",
       "      <td>Senior Data Scientist</td>\n",
       "      <td>Bangalore\\n+1</td>\n",
       "      <td>neostats</td>\n",
       "    </tr>\n",
       "  </tbody>\n",
       "</table>\n",
       "</div>"
      ],
      "text/plain": [
       "                                               Title        Location  \\\n",
       "0                                     Data Scientist   Bangalore\\n+8   \n",
       "1                                  ML Data Scientist   Bangalore\\n+3   \n",
       "2                      Data Scientist Urgent Vacancy  Bangalore\\n+15   \n",
       "3                         Data Scientist Recruitment  Bangalore\\n+15   \n",
       "4                         Data Scientist Recruitment  Bangalore\\n+15   \n",
       "5                                     Data Scientist   Bangalore\\n+4   \n",
       "6                                     Data Scientist       Bangalore   \n",
       "7      Lead Data Scientist/ Principal Data Scientist   Bangalore\\n+1   \n",
       "8  Vacancy For Data Scientist Fresher and Experience  Bangalore\\n+14   \n",
       "9                              Senior Data Scientist   Bangalore\\n+1   \n",
       "\n",
       "                             Company_Name  \n",
       "0                           techno endura  \n",
       "1  gujarat facility services hiring fo...  \n",
       "2                      renuka interprises  \n",
       "3                      renuka interprises  \n",
       "4                      renuka interprises  \n",
       "5           acme services private limited  \n",
       "6                     ltimindtree limited  \n",
       "7                                 fractal  \n",
       "8                yogita staffing solution  \n",
       "9                                neostats  "
      ]
     },
     "execution_count": 333,
     "metadata": {},
     "output_type": "execute_result"
    }
   ],
   "source": [
    "#Create data frame and print\n",
    "df= pd.DataFrame({'Title':jobTitles, 'Location': location, 'Company_Name': CompanyName,})\n",
    "df"
   ]
  },
  {
   "cell_type": "code",
   "execution_count": 444,
   "id": "9b22f4d8",
   "metadata": {},
   "outputs": [],
   "source": [
    "#open website\n",
    "driver.get(\"https://www.flipkart.com/\")"
   ]
  },
  {
   "cell_type": "code",
   "execution_count": 445,
   "id": "b77d3b16",
   "metadata": {},
   "outputs": [],
   "source": [
    "#Seach for sunglasses\n",
    "product= driver.find_element(By.XPATH,'//div[@class=\"_2SmNnR\"]/input')\n",
    "product.send_keys('sunglasses')\n",
    "product.submit()"
   ]
  },
  {
   "cell_type": "code",
   "execution_count": 409,
   "id": "1941ed31",
   "metadata": {},
   "outputs": [
    {
     "name": "stdout",
     "output_type": "stream",
     "text": [
      "40\n"
     ]
    }
   ],
   "source": [
    "#Get first fourty brand of sunglasses\n",
    "Brand=[]\n",
    "FirstfourtyBrand=driver.find_elements(By.XPATH,'//div[@class=\"_2WkVRV\"]')\n",
    "for i in FirstfourtyBrand:\n",
    "    bsunglasses= i.text\n",
    "    Brand.append(bsunglasses)\n",
    "    \n",
    "print(len(Brand))"
   ]
  },
  {
   "cell_type": "code",
   "execution_count": 410,
   "id": "e58d983c",
   "metadata": {},
   "outputs": [
    {
     "name": "stdout",
     "output_type": "stream",
     "text": [
      "80\n"
     ]
    }
   ],
   "source": [
    "#Get further fourty brand\n",
    "SecondFourtyBrand= driver.find_elements(By.XPATH,'//div[@class=\"_2WkVRV\"]')\n",
    "for i in SecondFourtyBrand:\n",
    "    b2sunglasses= i.text\n",
    "    Brand.append(b2sunglasses)\n",
    "    \n",
    "print(len(Brand))"
   ]
  },
  {
   "cell_type": "code",
   "execution_count": 411,
   "id": "cb2f0194",
   "metadata": {},
   "outputs": [
    {
     "name": "stdout",
     "output_type": "stream",
     "text": [
      "100\n"
     ]
    }
   ],
   "source": [
    "#Get further 20 brands\n",
    "lastTwenty= driver.find_elements(By.XPATH,'//div[@class=\"_2WkVRV\"]')\n",
    "for i in range(20):\n",
    "    last20= lastTwenty[i].text\n",
    "    Brand.append(last20)\n",
    "    \n",
    "    \n",
    "print(len(Brand))"
   ]
  },
  {
   "cell_type": "code",
   "execution_count": 421,
   "id": "4f744072",
   "metadata": {},
   "outputs": [
    {
     "name": "stdout",
     "output_type": "stream",
     "text": [
      "37\n"
     ]
    }
   ],
   "source": [
    "#Get 37 Brand description\n",
    "BrandDes=[]\n",
    "description= driver.find_elements(By.XPATH,'//a[@class=\"IRpwTa\"]')\n",
    "for i in range(37):\n",
    "    des= description[i].text\n",
    "    BrandDes.append(des)\n",
    "    \n",
    "    \n",
    "print(len(BrandDes))\n"
   ]
  },
  {
   "cell_type": "code",
   "execution_count": 422,
   "id": "7d7855ce",
   "metadata": {},
   "outputs": [
    {
     "name": "stdout",
     "output_type": "stream",
     "text": [
      "40\n"
     ]
    }
   ],
   "source": [
    "#get 3 more brand desc\n",
    "description= driver.find_elements(By.XPATH,'//a[@class=\"IRpwTa\"]')\n",
    "for i in range(3):\n",
    "    des= description[i].text\n",
    "    BrandDes.append(des)\n",
    "    \n",
    "\n",
    "\n",
    "    \n",
    "print(len(BrandDes))"
   ]
  },
  {
   "cell_type": "code",
   "execution_count": 423,
   "id": "95952381",
   "metadata": {},
   "outputs": [
    {
     "name": "stdout",
     "output_type": "stream",
     "text": [
      "78\n"
     ]
    }
   ],
   "source": [
    "#get 38 more brand des\n",
    "description= driver.find_elements(By.XPATH,'//a[@class=\"IRpwTa\"]')\n",
    "for i in range(38):\n",
    "    des= description[i].text\n",
    "    BrandDes.append(des)\n",
    "    \n",
    "    \n",
    "print(len(BrandDes))"
   ]
  },
  {
   "cell_type": "code",
   "execution_count": 434,
   "id": "76d191ce",
   "metadata": {},
   "outputs": [
    {
     "name": "stdout",
     "output_type": "stream",
     "text": [
      "80\n"
     ]
    }
   ],
   "source": [
    "#  get 2 more brand des\n",
    "description= driver.find_elements(By.XPATH,'//a[@class=\"IRpwTa _2-ICcC\"]')\n",
    "for i in range(2):\n",
    "    des= description[i].text\n",
    "    BrandDes.append(des)\n",
    "    \n",
    "    \n",
    "print(len(BrandDes))\n"
   ]
  },
  {
   "cell_type": "code",
   "execution_count": 435,
   "id": "4bdbdd9d",
   "metadata": {},
   "outputs": [
    {
     "name": "stdout",
     "output_type": "stream",
     "text": [
      "100\n"
     ]
    }
   ],
   "source": [
    "# get 20 more brand des\n",
    "description= driver.find_elements(By.XPATH,'//a[@class=\"IRpwTa\"]')\n",
    "for i in range(20):\n",
    "    des= description[i].text\n",
    "    BrandDes.append(des)\n",
    "    \n",
    "    \n",
    "print(len(BrandDes))"
   ]
  },
  {
   "cell_type": "code",
   "execution_count": 449,
   "id": "ecacef39",
   "metadata": {},
   "outputs": [
    {
     "name": "stdout",
     "output_type": "stream",
     "text": [
      "40\n"
     ]
    }
   ],
   "source": [
    "# get first page prices\n",
    "Price1=[]\n",
    "price = driver.find_elements(By.XPATH,'//div[@class=\"_3I9_wc\"]')\n",
    "\n",
    "for i in range(40):\n",
    "    pr= price[i].text\n",
    "    Price1.append(pr)\n",
    "    \n",
    "print(len(Price1))"
   ]
  },
  {
   "cell_type": "code",
   "execution_count": 450,
   "id": "239baa40",
   "metadata": {},
   "outputs": [
    {
     "name": "stdout",
     "output_type": "stream",
     "text": [
      "79\n"
     ]
    }
   ],
   "source": [
    "# get 2nd page price\n",
    "price = driver.find_elements(By.XPATH,'//div[@class=\"_3I9_wc\"]')\n",
    "\n",
    "for i in range(39):\n",
    "    pr= price[i].text\n",
    "    Price1.append(pr)\n",
    "    \n",
    "print(len(Price1))"
   ]
  },
  {
   "cell_type": "code",
   "execution_count": 451,
   "id": "2caba1b0",
   "metadata": {},
   "outputs": [
    {
     "name": "stdout",
     "output_type": "stream",
     "text": [
      "100\n"
     ]
    }
   ],
   "source": [
    "# get 3rd page prices\n",
    "price = driver.find_elements(By.XPATH,'//div[@class=\"_3I9_wc\"]')\n",
    "\n",
    "for i in range(21):\n",
    "    pr= price[i].text\n",
    "    Price1.append(pr)\n",
    "    \n",
    "print(len(Price1))"
   ]
  },
  {
   "cell_type": "code",
   "execution_count": 452,
   "id": "e72cb212",
   "metadata": {},
   "outputs": [
    {
     "data": {
      "text/html": [
       "<div>\n",
       "<style scoped>\n",
       "    .dataframe tbody tr th:only-of-type {\n",
       "        vertical-align: middle;\n",
       "    }\n",
       "\n",
       "    .dataframe tbody tr th {\n",
       "        vertical-align: top;\n",
       "    }\n",
       "\n",
       "    .dataframe thead th {\n",
       "        text-align: right;\n",
       "    }\n",
       "</style>\n",
       "<table border=\"1\" class=\"dataframe\">\n",
       "  <thead>\n",
       "    <tr style=\"text-align: right;\">\n",
       "      <th></th>\n",
       "      <th>Brand</th>\n",
       "      <th>Description</th>\n",
       "      <th>Price</th>\n",
       "    </tr>\n",
       "  </thead>\n",
       "  <tbody>\n",
       "    <tr>\n",
       "      <th>0</th>\n",
       "      <td>ROADWAY</td>\n",
       "      <td>UV Protection, Riding Glasses, Others Aviator,...</td>\n",
       "      <td>₹1,499</td>\n",
       "    </tr>\n",
       "    <tr>\n",
       "      <th>1</th>\n",
       "      <td>Fastrack</td>\n",
       "      <td>UV Protection Over-sized Sunglasses (65)</td>\n",
       "      <td>₹1,999</td>\n",
       "    </tr>\n",
       "    <tr>\n",
       "      <th>2</th>\n",
       "      <td>ROADWAY</td>\n",
       "      <td>UV Protection Retro Square Sunglasses (54)</td>\n",
       "      <td>₹1,299</td>\n",
       "    </tr>\n",
       "    <tr>\n",
       "      <th>3</th>\n",
       "      <td>SRPM</td>\n",
       "      <td>UV Protection Retro Square Sunglasses (Free Size)</td>\n",
       "      <td>₹1,099</td>\n",
       "    </tr>\n",
       "    <tr>\n",
       "      <th>4</th>\n",
       "      <td>DEYVUE</td>\n",
       "      <td>UV Protection, Mirrored Sports Sunglasses (62)</td>\n",
       "      <td>₹1,299</td>\n",
       "    </tr>\n",
       "    <tr>\n",
       "      <th>...</th>\n",
       "      <td>...</td>\n",
       "      <td>...</td>\n",
       "      <td>...</td>\n",
       "    </tr>\n",
       "    <tr>\n",
       "      <th>95</th>\n",
       "      <td>ROZZETTA CRAFT</td>\n",
       "      <td>UV Protection Round Sunglasses (50)</td>\n",
       "      <td>₹2,999</td>\n",
       "    </tr>\n",
       "    <tr>\n",
       "      <th>96</th>\n",
       "      <td>Elligator</td>\n",
       "      <td>UV Protection Round Sunglasses (44)</td>\n",
       "      <td>₹1,999</td>\n",
       "    </tr>\n",
       "    <tr>\n",
       "      <th>97</th>\n",
       "      <td>Rich Club</td>\n",
       "      <td>Others Wayfarer Sunglasses (Free Size)</td>\n",
       "      <td>₹1,599</td>\n",
       "    </tr>\n",
       "    <tr>\n",
       "      <th>98</th>\n",
       "      <td>Mast &amp; Harbour</td>\n",
       "      <td>UV Protection Retro Square Sunglasses (Free Size)</td>\n",
       "      <td>₹1,999</td>\n",
       "    </tr>\n",
       "    <tr>\n",
       "      <th>99</th>\n",
       "      <td>iCopertina</td>\n",
       "      <td>Polarized Aviator Sunglasses (58)</td>\n",
       "      <td>₹1,525</td>\n",
       "    </tr>\n",
       "  </tbody>\n",
       "</table>\n",
       "<p>100 rows × 3 columns</p>\n",
       "</div>"
      ],
      "text/plain": [
       "             Brand                                        Description   Price\n",
       "0          ROADWAY  UV Protection, Riding Glasses, Others Aviator,...  ₹1,499\n",
       "1         Fastrack           UV Protection Over-sized Sunglasses (65)  ₹1,999\n",
       "2          ROADWAY         UV Protection Retro Square Sunglasses (54)  ₹1,299\n",
       "3             SRPM  UV Protection Retro Square Sunglasses (Free Size)  ₹1,099\n",
       "4           DEYVUE     UV Protection, Mirrored Sports Sunglasses (62)  ₹1,299\n",
       "..             ...                                                ...     ...\n",
       "95  ROZZETTA CRAFT                UV Protection Round Sunglasses (50)  ₹2,999\n",
       "96       Elligator                UV Protection Round Sunglasses (44)  ₹1,999\n",
       "97       Rich Club             Others Wayfarer Sunglasses (Free Size)  ₹1,599\n",
       "98  Mast & Harbour  UV Protection Retro Square Sunglasses (Free Size)  ₹1,999\n",
       "99      iCopertina                  Polarized Aviator Sunglasses (58)  ₹1,525\n",
       "\n",
       "[100 rows x 3 columns]"
      ]
     },
     "execution_count": 452,
     "metadata": {},
     "output_type": "execute_result"
    }
   ],
   "source": [
    "#create data frame \n",
    "df=pd.DataFrame({'Brand': Brand, 'Description': BrandDes, 'Price': Price1})\n",
    "df"
   ]
  },
  {
   "cell_type": "code",
   "execution_count": 458,
   "id": "eb65ddfe",
   "metadata": {},
   "outputs": [
    {
     "name": "stdout",
     "output_type": "stream",
     "text": [
      "8\n"
     ]
    }
   ],
   "source": [
    "ReviewsStars=[]\n",
    "FirstPage= driver.find_elements(By.XPATH,'//div[@class=\"_3LWZlK _1BLPMq\"]')\n",
    "for i in range(8):\n",
    "    Rev= FirstPage[i].text\n",
    "    ReviewsStars.append(Rev)\n",
    "\n",
    "    \n",
    "print(len(Reviews))"
   ]
  },
  {
   "cell_type": "code",
   "execution_count": 460,
   "id": "83a475a5",
   "metadata": {},
   "outputs": [
    {
     "name": "stdout",
     "output_type": "stream",
     "text": [
      "24\n"
     ]
    }
   ],
   "source": [
    "SecondPage= driver.find_elements(By.XPATH,'//div[@class=\"_3LWZlK _1BLPMq\"]')\n",
    "for i in range(8):\n",
    "    Rev= SecondPage[i].text\n",
    "    ReviewsStars.append(Rev)\n",
    "    \n",
    "    \n",
    "print(len(ReviewsStars))"
   ]
  },
  {
   "cell_type": "code",
   "execution_count": 468,
   "id": "985ef8b2",
   "metadata": {},
   "outputs": [
    {
     "name": "stdout",
     "output_type": "stream",
     "text": [
      "9\n"
     ]
    }
   ],
   "source": [
    "comments=[]\n",
    "FirtsPageRev= driver.find_elements(By.XPATH,'//p[@class=\"_2-N8zT\"]')\n",
    "for i in range(9):\n",
    "    com= FirtsPageRev[i].text\n",
    "    comments.append(com)\n",
    "    \n",
    "print(len(comments))"
   ]
  },
  {
   "cell_type": "code",
   "execution_count": 469,
   "id": "9e6dec16",
   "metadata": {},
   "outputs": [
    {
     "name": "stdout",
     "output_type": "stream",
     "text": [
      "18\n"
     ]
    }
   ],
   "source": [
    "SeconPageRev= driver.find_elements(By.XPATH,'//p[@class=\"_2-N8zT\"]')\n",
    "for i in range(9):\n",
    "    com= FirtsPageRev[i].text\n",
    "    comments.append(com)\n",
    "    \n",
    "print(len(comments))"
   ]
  },
  {
   "cell_type": "code",
   "execution_count": 470,
   "id": "e40a7d10",
   "metadata": {},
   "outputs": [
    {
     "name": "stdout",
     "output_type": "stream",
     "text": [
      "24\n"
     ]
    }
   ],
   "source": [
    "ThirdPageRev= driver.find_elements(By.XPATH,'//p[@class=\"_2-N8zT\"]')\n",
    "for i in range(6):\n",
    "    com= FirtsPageRev[i].text\n",
    "    comments.append(com)\n",
    "    \n",
    "print(len(comments))"
   ]
  },
  {
   "cell_type": "code",
   "execution_count": 471,
   "id": "273bc4ee",
   "metadata": {},
   "outputs": [
    {
     "data": {
      "text/html": [
       "<div>\n",
       "<style scoped>\n",
       "    .dataframe tbody tr th:only-of-type {\n",
       "        vertical-align: middle;\n",
       "    }\n",
       "\n",
       "    .dataframe tbody tr th {\n",
       "        vertical-align: top;\n",
       "    }\n",
       "\n",
       "    .dataframe thead th {\n",
       "        text-align: right;\n",
       "    }\n",
       "</style>\n",
       "<table border=\"1\" class=\"dataframe\">\n",
       "  <thead>\n",
       "    <tr style=\"text-align: right;\">\n",
       "      <th></th>\n",
       "      <th>Rate out of 5</th>\n",
       "      <th>Comments</th>\n",
       "    </tr>\n",
       "  </thead>\n",
       "  <tbody>\n",
       "    <tr>\n",
       "      <th>0</th>\n",
       "      <td>5</td>\n",
       "      <td>Worth every penny</td>\n",
       "    </tr>\n",
       "    <tr>\n",
       "      <th>1</th>\n",
       "      <td>5</td>\n",
       "      <td>Best in the market!</td>\n",
       "    </tr>\n",
       "    <tr>\n",
       "      <th>2</th>\n",
       "      <td>5</td>\n",
       "      <td>Wonderful</td>\n",
       "    </tr>\n",
       "    <tr>\n",
       "      <th>3</th>\n",
       "      <td>5</td>\n",
       "      <td>Wonderful</td>\n",
       "    </tr>\n",
       "    <tr>\n",
       "      <th>4</th>\n",
       "      <td>4</td>\n",
       "      <td>Value-for-money</td>\n",
       "    </tr>\n",
       "    <tr>\n",
       "      <th>5</th>\n",
       "      <td>4</td>\n",
       "      <td>Terrible product</td>\n",
       "    </tr>\n",
       "    <tr>\n",
       "      <th>6</th>\n",
       "      <td>5</td>\n",
       "      <td>Utterly Disappointed</td>\n",
       "    </tr>\n",
       "    <tr>\n",
       "      <th>7</th>\n",
       "      <td>5</td>\n",
       "      <td>Wonderful</td>\n",
       "    </tr>\n",
       "    <tr>\n",
       "      <th>8</th>\n",
       "      <td>5</td>\n",
       "      <td>Perfect product!</td>\n",
       "    </tr>\n",
       "    <tr>\n",
       "      <th>9</th>\n",
       "      <td>5</td>\n",
       "      <td>Worth every penny</td>\n",
       "    </tr>\n",
       "    <tr>\n",
       "      <th>10</th>\n",
       "      <td>5</td>\n",
       "      <td>Best in the market!</td>\n",
       "    </tr>\n",
       "    <tr>\n",
       "      <th>11</th>\n",
       "      <td>5</td>\n",
       "      <td>Wonderful</td>\n",
       "    </tr>\n",
       "    <tr>\n",
       "      <th>12</th>\n",
       "      <td>4</td>\n",
       "      <td>Wonderful</td>\n",
       "    </tr>\n",
       "    <tr>\n",
       "      <th>13</th>\n",
       "      <td>4</td>\n",
       "      <td>Value-for-money</td>\n",
       "    </tr>\n",
       "    <tr>\n",
       "      <th>14</th>\n",
       "      <td>5</td>\n",
       "      <td>Terrible product</td>\n",
       "    </tr>\n",
       "    <tr>\n",
       "      <th>15</th>\n",
       "      <td>5</td>\n",
       "      <td>Utterly Disappointed</td>\n",
       "    </tr>\n",
       "    <tr>\n",
       "      <th>16</th>\n",
       "      <td>5</td>\n",
       "      <td>Wonderful</td>\n",
       "    </tr>\n",
       "    <tr>\n",
       "      <th>17</th>\n",
       "      <td>5</td>\n",
       "      <td>Perfect product!</td>\n",
       "    </tr>\n",
       "    <tr>\n",
       "      <th>18</th>\n",
       "      <td>5</td>\n",
       "      <td>Worth every penny</td>\n",
       "    </tr>\n",
       "    <tr>\n",
       "      <th>19</th>\n",
       "      <td>5</td>\n",
       "      <td>Best in the market!</td>\n",
       "    </tr>\n",
       "    <tr>\n",
       "      <th>20</th>\n",
       "      <td>4</td>\n",
       "      <td>Wonderful</td>\n",
       "    </tr>\n",
       "    <tr>\n",
       "      <th>21</th>\n",
       "      <td>4</td>\n",
       "      <td>Wonderful</td>\n",
       "    </tr>\n",
       "    <tr>\n",
       "      <th>22</th>\n",
       "      <td>5</td>\n",
       "      <td>Value-for-money</td>\n",
       "    </tr>\n",
       "    <tr>\n",
       "      <th>23</th>\n",
       "      <td>5</td>\n",
       "      <td>Terrible product</td>\n",
       "    </tr>\n",
       "  </tbody>\n",
       "</table>\n",
       "</div>"
      ],
      "text/plain": [
       "   Rate out of 5              Comments\n",
       "0              5     Worth every penny\n",
       "1              5   Best in the market!\n",
       "2              5             Wonderful\n",
       "3              5             Wonderful\n",
       "4              4       Value-for-money\n",
       "5              4      Terrible product\n",
       "6              5  Utterly Disappointed\n",
       "7              5             Wonderful\n",
       "8              5      Perfect product!\n",
       "9              5     Worth every penny\n",
       "10             5   Best in the market!\n",
       "11             5             Wonderful\n",
       "12             4             Wonderful\n",
       "13             4       Value-for-money\n",
       "14             5      Terrible product\n",
       "15             5  Utterly Disappointed\n",
       "16             5             Wonderful\n",
       "17             5      Perfect product!\n",
       "18             5     Worth every penny\n",
       "19             5   Best in the market!\n",
       "20             4             Wonderful\n",
       "21             4             Wonderful\n",
       "22             5       Value-for-money\n",
       "23             5      Terrible product"
      ]
     },
     "execution_count": 471,
     "metadata": {},
     "output_type": "execute_result"
    }
   ],
   "source": [
    "df= pd.DataFrame({'Rate out of 5':ReviewsStars, 'Comments': comments })\n",
    "df"
   ]
  },
  {
   "cell_type": "code",
   "execution_count": 478,
   "id": "9c4b2d8b",
   "metadata": {},
   "outputs": [],
   "source": [
    "#open website\n",
    "driver.get(\"https://www.flipkart.com/\")"
   ]
  },
  {
   "cell_type": "code",
   "execution_count": 479,
   "id": "edf2cb5f",
   "metadata": {},
   "outputs": [],
   "source": [
    "#Seach for sneakers\n",
    "product= driver.find_element(By.XPATH,'//div[@class=\"_2SmNnR\"]/input')\n",
    "product.send_keys('sneakers')\n",
    "product.submit()"
   ]
  },
  {
   "cell_type": "code",
   "execution_count": 480,
   "id": "51727e44",
   "metadata": {},
   "outputs": [
    {
     "name": "stdout",
     "output_type": "stream",
     "text": [
      "40\n"
     ]
    }
   ],
   "source": [
    "SneakerBrands=[]\n",
    "FirstPage= driver.find_elements(By.XPATH,'//div[@class=\"_2WkVRV\"]')\n",
    "for i in range(40):\n",
    "    SBrand= FirstPage[i].text\n",
    "    SneakerBrands.append(SBrand)\n",
    "\n",
    "\n",
    "print(len(SneakerBrands))"
   ]
  },
  {
   "cell_type": "code",
   "execution_count": 482,
   "id": "21ade4d1",
   "metadata": {},
   "outputs": [
    {
     "name": "stdout",
     "output_type": "stream",
     "text": [
      "80\n"
     ]
    }
   ],
   "source": [
    "SecondPage= driver.find_elements(By.XPATH,'//div[@class=\"_2WkVRV\"]')\n",
    "for i in range(40):\n",
    "    SBrand= SecondPage[i].text\n",
    "    SneakerBrands.append(SBrand)\n",
    "    \n",
    "    \n",
    "print(len(SneakerBrands))\n"
   ]
  },
  {
   "cell_type": "code",
   "execution_count": 483,
   "id": "a61c36ba",
   "metadata": {},
   "outputs": [
    {
     "name": "stdout",
     "output_type": "stream",
     "text": [
      "100\n"
     ]
    }
   ],
   "source": [
    "ThirdPage= driver.find_elements(By.XPATH,'//div[@class=\"_2WkVRV\"]')\n",
    "for i in range(20):\n",
    "    SBrand= ThirdPage[i].text\n",
    "    SneakerBrands.append(SBrand)\n",
    "    \n",
    "    \n",
    "print(len(SneakerBrands))\n"
   ]
  },
  {
   "cell_type": "code",
   "execution_count": 488,
   "id": "6d68b330",
   "metadata": {},
   "outputs": [
    {
     "name": "stdout",
     "output_type": "stream",
     "text": [
      "40\n"
     ]
    }
   ],
   "source": [
    "ProductDes=[]\n",
    "FirstPageDes= driver.find_elements(By.XPATH,'//a[@class=\"IRpwTa\"]')\n",
    "for i in range(34):\n",
    "    Pdes= FirstPageDes[i].text\n",
    "    ProductDes.append(Pdes)\n",
    "\n",
    "\n",
    "FirstPageremDes= driver.find_elements(By.XPATH,'//a[@class=\"IRpwTa _2-ICcC\"]')\n",
    "for i in range(6):\n",
    "    Pdes= FirstPageremDes[i].text\n",
    "    ProductDes.append(Pdes)\n",
    "    \n",
    "\n",
    "print(len(ProductDes))"
   ]
  },
  {
   "cell_type": "code",
   "execution_count": 489,
   "id": "53a4b311",
   "metadata": {},
   "outputs": [
    {
     "name": "stdout",
     "output_type": "stream",
     "text": [
      "80\n"
     ]
    }
   ],
   "source": [
    "SecondPageDes= driver.find_elements(By.XPATH,'//a[@class=\"IRpwTa\"]')\n",
    "for i in range(34):\n",
    "    Pdes= SecondPageDes[i].text\n",
    "    ProductDes.append(Pdes)\n",
    "\n",
    "\n",
    "SecondPageremDes= driver.find_elements(By.XPATH,'//a[@class=\"IRpwTa _2-ICcC\"]')\n",
    "for i in range(6):\n",
    "    Pdes= SecondPageremDes[i].text\n",
    "    ProductDes.append(Pdes)\n",
    "\n",
    "print(len(ProductDes))"
   ]
  },
  {
   "cell_type": "code",
   "execution_count": 491,
   "id": "2133ad2c",
   "metadata": {},
   "outputs": [
    {
     "name": "stdout",
     "output_type": "stream",
     "text": [
      "100\n"
     ]
    }
   ],
   "source": [
    "ThirdPageDes= driver.find_elements(By.XPATH,'//a[@class=\"IRpwTa\"]')\n",
    "for i in range(20):\n",
    "    Pdes= ThirdPageDes[i].text\n",
    "    ProductDes.append(Pdes)\n",
    "\n",
    "\n",
    "\n",
    "\n",
    "print(len(ProductDes))"
   ]
  },
  {
   "cell_type": "code",
   "execution_count": 492,
   "id": "7acdbf53",
   "metadata": {},
   "outputs": [
    {
     "name": "stdout",
     "output_type": "stream",
     "text": [
      "40\n"
     ]
    }
   ],
   "source": [
    "\n",
    "Prices=[]\n",
    "FirstPagePrices= driver.find_elements(By.XPATH,'//div[@class=\"_3I9_wc\"]')\n",
    "for i in range(40):\n",
    "    FPrices= FirstPagePrices[i].text\n",
    "    Prices.append(FPrices)\n",
    "    \n",
    "print(len(Prices))\n"
   ]
  },
  {
   "cell_type": "code",
   "execution_count": 493,
   "id": "1ae4df8b",
   "metadata": {},
   "outputs": [
    {
     "name": "stdout",
     "output_type": "stream",
     "text": [
      "80\n"
     ]
    }
   ],
   "source": [
    "\n",
    "SecondPagePrices= driver.find_elements(By.XPATH,'//div[@class=\"_3I9_wc\"]')\n",
    "for i in range(40):\n",
    "    SPrices= SecondPagePrices[i].text\n",
    "    Prices.append(SPrices)\n",
    "    \n",
    "print(len(Prices))\n"
   ]
  },
  {
   "cell_type": "code",
   "execution_count": 494,
   "id": "596a4849",
   "metadata": {},
   "outputs": [
    {
     "name": "stdout",
     "output_type": "stream",
     "text": [
      "100\n"
     ]
    }
   ],
   "source": [
    "ThirdPagePrices= driver.find_elements(By.XPATH,'//div[@class=\"_3I9_wc\"]')\n",
    "for i in range(20):\n",
    "    SPrices= ThirdPagePrices[i].text\n",
    "    Prices.append(SPrices)\n",
    "    \n",
    "print(len(Prices))"
   ]
  },
  {
   "cell_type": "code",
   "execution_count": 496,
   "id": "bef3847a",
   "metadata": {},
   "outputs": [
    {
     "data": {
      "text/html": [
       "<div>\n",
       "<style scoped>\n",
       "    .dataframe tbody tr th:only-of-type {\n",
       "        vertical-align: middle;\n",
       "    }\n",
       "\n",
       "    .dataframe tbody tr th {\n",
       "        vertical-align: top;\n",
       "    }\n",
       "\n",
       "    .dataframe thead th {\n",
       "        text-align: right;\n",
       "    }\n",
       "</style>\n",
       "<table border=\"1\" class=\"dataframe\">\n",
       "  <thead>\n",
       "    <tr style=\"text-align: right;\">\n",
       "      <th></th>\n",
       "      <th>Brand</th>\n",
       "      <th>Description</th>\n",
       "      <th>Prices</th>\n",
       "    </tr>\n",
       "  </thead>\n",
       "  <tbody>\n",
       "    <tr>\n",
       "      <th>0</th>\n",
       "      <td>URBANBOX</td>\n",
       "      <td>Trending Stylish Casual Outdoor Shoes For Men ...</td>\n",
       "      <td>₹999</td>\n",
       "    </tr>\n",
       "    <tr>\n",
       "      <th>1</th>\n",
       "      <td>BRUTON</td>\n",
       "      <td>Modern Trendy Sneakers Shoes Sneakers For Men</td>\n",
       "      <td>₹2,499</td>\n",
       "    </tr>\n",
       "    <tr>\n",
       "      <th>2</th>\n",
       "      <td>Deals4you</td>\n",
       "      <td>Casual Sneaker Shoes for Women | Soft Cushione...</td>\n",
       "      <td>₹999</td>\n",
       "    </tr>\n",
       "    <tr>\n",
       "      <th>3</th>\n",
       "      <td>URBANBOX</td>\n",
       "      <td>Shuffle Ultra Sneakers For Men</td>\n",
       "      <td>₹999</td>\n",
       "    </tr>\n",
       "    <tr>\n",
       "      <th>4</th>\n",
       "      <td>RED TAPE</td>\n",
       "      <td>Casual Sneaker Shoes for Men | Soft Cushioned ...</td>\n",
       "      <td>₹5,699</td>\n",
       "    </tr>\n",
       "    <tr>\n",
       "      <th>...</th>\n",
       "      <td>...</td>\n",
       "      <td>...</td>\n",
       "      <td>...</td>\n",
       "    </tr>\n",
       "    <tr>\n",
       "      <th>95</th>\n",
       "      <td>MOZAFIA</td>\n",
       "      <td>Comfortable Canvas Lace-up Casual Ankle Length...</td>\n",
       "      <td>₹6,499</td>\n",
       "    </tr>\n",
       "    <tr>\n",
       "      <th>96</th>\n",
       "      <td>Aeonik</td>\n",
       "      <td>Newton-01 Men's Lightweight Running Shoes Snea...</td>\n",
       "      <td>₹3,295</td>\n",
       "    </tr>\n",
       "    <tr>\n",
       "      <th>97</th>\n",
       "      <td>ATOM</td>\n",
       "      <td>Women's Mesh Sports Shoes Walking Sneakers For...</td>\n",
       "      <td>₹999</td>\n",
       "    </tr>\n",
       "    <tr>\n",
       "      <th>98</th>\n",
       "      <td>asian</td>\n",
       "      <td>Sneakers For Men</td>\n",
       "      <td>₹1,098</td>\n",
       "    </tr>\n",
       "    <tr>\n",
       "      <th>99</th>\n",
       "      <td>CAMPUS</td>\n",
       "      <td>VIBGYOR Sneakers For Men</td>\n",
       "      <td>₹1,299</td>\n",
       "    </tr>\n",
       "  </tbody>\n",
       "</table>\n",
       "<p>100 rows × 3 columns</p>\n",
       "</div>"
      ],
      "text/plain": [
       "        Brand                                        Description  Prices\n",
       "0    URBANBOX  Trending Stylish Casual Outdoor Shoes For Men ...    ₹999\n",
       "1      BRUTON      Modern Trendy Sneakers Shoes Sneakers For Men  ₹2,499\n",
       "2   Deals4you  Casual Sneaker Shoes for Women | Soft Cushione...    ₹999\n",
       "3    URBANBOX                     Shuffle Ultra Sneakers For Men    ₹999\n",
       "4    RED TAPE  Casual Sneaker Shoes for Men | Soft Cushioned ...  ₹5,699\n",
       "..        ...                                                ...     ...\n",
       "95    MOZAFIA  Comfortable Canvas Lace-up Casual Ankle Length...  ₹6,499\n",
       "96     Aeonik  Newton-01 Men's Lightweight Running Shoes Snea...  ₹3,295\n",
       "97       ATOM  Women's Mesh Sports Shoes Walking Sneakers For...    ₹999\n",
       "98      asian                                   Sneakers For Men  ₹1,098\n",
       "99     CAMPUS                           VIBGYOR Sneakers For Men  ₹1,299\n",
       "\n",
       "[100 rows x 3 columns]"
      ]
     },
     "execution_count": 496,
     "metadata": {},
     "output_type": "execute_result"
    }
   ],
   "source": [
    "df=pd.DataFrame({'Brand':SneakerBrands,'Description':ProductDes, 'Prices':Prices})\n",
    "df"
   ]
  },
  {
   "cell_type": "code",
   "execution_count": 513,
   "id": "f1b4c6c0",
   "metadata": {},
   "outputs": [],
   "source": [
    "\n",
    "driver.get(\"https://www.amazon.in/\")"
   ]
  },
  {
   "cell_type": "code",
   "execution_count": 509,
   "id": "125c86b1",
   "metadata": {},
   "outputs": [
    {
     "name": "stdout",
     "output_type": "stream",
     "text": [
      "10\n"
     ]
    }
   ],
   "source": [
    "\n",
    "Title=[]\n",
    "FirstPageTitle= driver.find_elements(By.XPATH,'//span[@class=\"a-size-medium a-color-base a-text-normal\"]')\n",
    "\n",
    "for i in range(10):\n",
    "    title= FirstPageTitle[i].text\n",
    "    Title.append(title)\n",
    "    \n",
    "print(len(Title))\n",
    "    \n"
   ]
  },
  {
   "cell_type": "code",
   "execution_count": 516,
   "id": "ae116481",
   "metadata": {},
   "outputs": [
    {
     "name": "stdout",
     "output_type": "stream",
     "text": [
      "10\n"
     ]
    }
   ],
   "source": [
    "#//i[@class=\"a-icon a-icon-star-small a-star-small-4 aok-align-bottom\"]\n",
    "\n",
    "Reviews=[]\n",
    "FirstPageReviews= driver.find_elements(By.XPATH,'//i[@class=\"a-icon a-icon-star-small a-star-small-4 aok-align-bottom\"]')\n",
    "\n",
    "for i in range(10):\n",
    "    Rev= FirstPageReviews[i].text\n",
    "    Reviews.append(Rev)\n",
    "    \n",
    "print(len(Reviews))\n",
    "\n"
   ]
  },
  {
   "cell_type": "code",
   "execution_count": 518,
   "id": "d79b07b7",
   "metadata": {},
   "outputs": [
    {
     "name": "stdout",
     "output_type": "stream",
     "text": [
      "10\n"
     ]
    }
   ],
   "source": [
    "\n",
    "Prices=[]\n",
    "FirstPagePrices= driver.find_elements(By.XPATH,'//span[@class=\"a-price-whole\"]')\n",
    "\n",
    "\n",
    "for i in range(10):\n",
    "    Pr= FirstPagePrices[i].text\n",
    "    Prices.append(Pr)\n",
    "    \n",
    "print(len(Prices))"
   ]
  },
  {
   "cell_type": "code",
   "execution_count": 520,
   "id": "27ca7857",
   "metadata": {},
   "outputs": [
    {
     "data": {
      "text/html": [
       "<div>\n",
       "<style scoped>\n",
       "    .dataframe tbody tr th:only-of-type {\n",
       "        vertical-align: middle;\n",
       "    }\n",
       "\n",
       "    .dataframe tbody tr th {\n",
       "        vertical-align: top;\n",
       "    }\n",
       "\n",
       "    .dataframe thead th {\n",
       "        text-align: right;\n",
       "    }\n",
       "</style>\n",
       "<table border=\"1\" class=\"dataframe\">\n",
       "  <thead>\n",
       "    <tr style=\"text-align: right;\">\n",
       "      <th></th>\n",
       "      <th>Title</th>\n",
       "      <th>Rating</th>\n",
       "      <th>Prices</th>\n",
       "    </tr>\n",
       "  </thead>\n",
       "  <tbody>\n",
       "    <tr>\n",
       "      <th>0</th>\n",
       "      <td>Lenovo IdeaPad Slim 3 Intel Core i3 12th Gen 1...</td>\n",
       "      <td></td>\n",
       "      <td>37,990</td>\n",
       "    </tr>\n",
       "    <tr>\n",
       "      <th>1</th>\n",
       "      <td>Lenovo Ideapad 3 AMD Ryzen 5 5500U 15.6\" (39.6...</td>\n",
       "      <td></td>\n",
       "      <td>59,494</td>\n",
       "    </tr>\n",
       "    <tr>\n",
       "      <th>2</th>\n",
       "      <td>Lenovo IdeaPad Slim 3 Intel Core i3 12th Gen 1...</td>\n",
       "      <td></td>\n",
       "      <td>49,990</td>\n",
       "    </tr>\n",
       "    <tr>\n",
       "      <th>3</th>\n",
       "      <td>Lenovo Ideapad 3 AMD Ryzen 5 5500U 15.6\" (39.6...</td>\n",
       "      <td></td>\n",
       "      <td>37,990</td>\n",
       "    </tr>\n",
       "    <tr>\n",
       "      <th>4</th>\n",
       "      <td>Lenovo IdeaPad Slim 3 Intel Core i3 12th Gen 1...</td>\n",
       "      <td></td>\n",
       "      <td>19,990</td>\n",
       "    </tr>\n",
       "    <tr>\n",
       "      <th>5</th>\n",
       "      <td>ASUS TUF Gaming F15, Intel Core i5-11400H 11th...</td>\n",
       "      <td></td>\n",
       "      <td>1,19,990.</td>\n",
       "    </tr>\n",
       "    <tr>\n",
       "      <th>6</th>\n",
       "      <td>Lenovo IdeaPad Gaming 3 AMD Ryzen 5 5500H 15.6...</td>\n",
       "      <td></td>\n",
       "      <td>37,490</td>\n",
       "    </tr>\n",
       "    <tr>\n",
       "      <th>7</th>\n",
       "      <td>ASUS Vivobook 16X (2022), 16.0-inch (40.64 cms...</td>\n",
       "      <td></td>\n",
       "      <td>52,990</td>\n",
       "    </tr>\n",
       "    <tr>\n",
       "      <th>8</th>\n",
       "      <td>Lenovo IdeaPad Slim 5 Ryzen 5 7530U 14\" (35.5c...</td>\n",
       "      <td></td>\n",
       "      <td>32,990</td>\n",
       "    </tr>\n",
       "    <tr>\n",
       "      <th>9</th>\n",
       "      <td>ASUS Vivobook 14, IntelCore i3-1215U 12th Gen,...</td>\n",
       "      <td></td>\n",
       "      <td>34,750</td>\n",
       "    </tr>\n",
       "  </tbody>\n",
       "</table>\n",
       "</div>"
      ],
      "text/plain": [
       "                                               Title Rating     Prices\n",
       "0  Lenovo IdeaPad Slim 3 Intel Core i3 12th Gen 1...            37,990\n",
       "1  Lenovo Ideapad 3 AMD Ryzen 5 5500U 15.6\" (39.6...            59,494\n",
       "2  Lenovo IdeaPad Slim 3 Intel Core i3 12th Gen 1...            49,990\n",
       "3  Lenovo Ideapad 3 AMD Ryzen 5 5500U 15.6\" (39.6...            37,990\n",
       "4  Lenovo IdeaPad Slim 3 Intel Core i3 12th Gen 1...            19,990\n",
       "5  ASUS TUF Gaming F15, Intel Core i5-11400H 11th...         1,19,990.\n",
       "6  Lenovo IdeaPad Gaming 3 AMD Ryzen 5 5500H 15.6...            37,490\n",
       "7  ASUS Vivobook 16X (2022), 16.0-inch (40.64 cms...            52,990\n",
       "8  Lenovo IdeaPad Slim 5 Ryzen 5 7530U 14\" (35.5c...            32,990\n",
       "9  ASUS Vivobook 14, IntelCore i3-1215U 12th Gen,...            34,750"
      ]
     },
     "execution_count": 520,
     "metadata": {},
     "output_type": "execute_result"
    }
   ],
   "source": [
    "df= pd.DataFrame({'Title': Title, 'Rating': Reviews, 'Prices': Prices})\n",
    "df"
   ]
  },
  {
   "cell_type": "code",
   "execution_count": 523,
   "id": "ff18915e",
   "metadata": {},
   "outputs": [],
   "source": [
    "driver.get(\"https://www.azquotes.com/\")"
   ]
  },
  {
   "cell_type": "code",
   "execution_count": 525,
   "id": "9487e4a0",
   "metadata": {},
   "outputs": [
    {
     "name": "stdout",
     "output_type": "stream",
     "text": [
      "100\n"
     ]
    }
   ],
   "source": [
    "#//a[@class=\"title\"]\n",
    "Quotes=[]\n",
    "\n",
    "Quote= driver.find_elements(By.XPATH,'//a[@class=\"title\"]')\n",
    "\n",
    "for i in range(100):\n",
    "    q= Quote[i].text\n",
    "    Quotes.append(q)\n",
    "\n",
    "print(len(Quote))"
   ]
  },
  {
   "cell_type": "code",
   "execution_count": 526,
   "id": "1c23bdc3",
   "metadata": {},
   "outputs": [
    {
     "name": "stdout",
     "output_type": "stream",
     "text": [
      "100\n"
     ]
    }
   ],
   "source": [
    "Authors=[]\n",
    "\n",
    "Author= driver.find_elements(By.XPATH,'//div[@class=\"author\"]')\n",
    "\n",
    "for i in range(100):\n",
    "    a= Author[i].text\n",
    "    Authors.append(q)\n",
    "    \n",
    "    \n",
    "print(len(Authors))"
   ]
  },
  {
   "cell_type": "code",
   "execution_count": 527,
   "id": "24980a05",
   "metadata": {},
   "outputs": [
    {
     "name": "stdout",
     "output_type": "stream",
     "text": [
      "100\n"
     ]
    }
   ],
   "source": [
    "\n",
    "Types=[]\n",
    "Tags= driver.find_elements(By.XPATH,'//div[@class=\"tags\"]')\n",
    "\n",
    "for i in range(100):\n",
    "    t= Tags[i].text\n",
    "    Types.append(t)\n",
    "    \n",
    "    \n",
    "print(len(Types))"
   ]
  },
  {
   "cell_type": "code",
   "execution_count": 528,
   "id": "63c7d79c",
   "metadata": {},
   "outputs": [
    {
     "data": {
      "text/html": [
       "<div>\n",
       "<style scoped>\n",
       "    .dataframe tbody tr th:only-of-type {\n",
       "        vertical-align: middle;\n",
       "    }\n",
       "\n",
       "    .dataframe tbody tr th {\n",
       "        vertical-align: top;\n",
       "    }\n",
       "\n",
       "    .dataframe thead th {\n",
       "        text-align: right;\n",
       "    }\n",
       "</style>\n",
       "<table border=\"1\" class=\"dataframe\">\n",
       "  <thead>\n",
       "    <tr style=\"text-align: right;\">\n",
       "      <th></th>\n",
       "      <th>Quotes</th>\n",
       "      <th>Authors</th>\n",
       "      <th>Types</th>\n",
       "    </tr>\n",
       "  </thead>\n",
       "  <tbody>\n",
       "    <tr>\n",
       "      <th>0</th>\n",
       "      <td>The essence of strategy is choosing what not t...</td>\n",
       "      <td>Change your thoughts and you change your world.</td>\n",
       "      <td>Essence, Deep Thought, Transcendentalism</td>\n",
       "    </tr>\n",
       "    <tr>\n",
       "      <th>1</th>\n",
       "      <td>One cannot and must not try to erase the past ...</td>\n",
       "      <td>Change your thoughts and you change your world.</td>\n",
       "      <td>Inspiration, Past, Trying</td>\n",
       "    </tr>\n",
       "    <tr>\n",
       "      <th>2</th>\n",
       "      <td>Patriotism means to stand by the country. It d...</td>\n",
       "      <td>Change your thoughts and you change your world.</td>\n",
       "      <td>Country, Peace, War</td>\n",
       "    </tr>\n",
       "    <tr>\n",
       "      <th>3</th>\n",
       "      <td>Death is something inevitable. When a man has ...</td>\n",
       "      <td>Change your thoughts and you change your world.</td>\n",
       "      <td>Inspirational, Motivational, Death</td>\n",
       "    </tr>\n",
       "    <tr>\n",
       "      <th>4</th>\n",
       "      <td>You have to love a nation that celebrates its ...</td>\n",
       "      <td>Change your thoughts and you change your world.</td>\n",
       "      <td>4th Of July, Food, Patriotic</td>\n",
       "    </tr>\n",
       "    <tr>\n",
       "      <th>...</th>\n",
       "      <td>...</td>\n",
       "      <td>...</td>\n",
       "      <td>...</td>\n",
       "    </tr>\n",
       "    <tr>\n",
       "      <th>95</th>\n",
       "      <td>When the going gets weird, the weird turn pro.</td>\n",
       "      <td>Change your thoughts and you change your world.</td>\n",
       "      <td>Music, Sports, Hunting</td>\n",
       "    </tr>\n",
       "    <tr>\n",
       "      <th>96</th>\n",
       "      <td>When a train goes through a tunnel and it gets...</td>\n",
       "      <td>Change your thoughts and you change your world.</td>\n",
       "      <td>Trust, Encouraging, Uplifting</td>\n",
       "    </tr>\n",
       "    <tr>\n",
       "      <th>97</th>\n",
       "      <td>If you think you are too small to make a diffe...</td>\n",
       "      <td>Change your thoughts and you change your world.</td>\n",
       "      <td>Inspirational, Funny, Change</td>\n",
       "    </tr>\n",
       "    <tr>\n",
       "      <th>98</th>\n",
       "      <td>God doesn't require us to succeed, he only req...</td>\n",
       "      <td>Change your thoughts and you change your world.</td>\n",
       "      <td>Success, God, Mother</td>\n",
       "    </tr>\n",
       "    <tr>\n",
       "      <th>99</th>\n",
       "      <td>Change your thoughts and you change your world.</td>\n",
       "      <td>Change your thoughts and you change your world.</td>\n",
       "      <td>Inspirational, Motivational, Change</td>\n",
       "    </tr>\n",
       "  </tbody>\n",
       "</table>\n",
       "<p>100 rows × 3 columns</p>\n",
       "</div>"
      ],
      "text/plain": [
       "                                               Quotes  \\\n",
       "0   The essence of strategy is choosing what not t...   \n",
       "1   One cannot and must not try to erase the past ...   \n",
       "2   Patriotism means to stand by the country. It d...   \n",
       "3   Death is something inevitable. When a man has ...   \n",
       "4   You have to love a nation that celebrates its ...   \n",
       "..                                                ...   \n",
       "95     When the going gets weird, the weird turn pro.   \n",
       "96  When a train goes through a tunnel and it gets...   \n",
       "97  If you think you are too small to make a diffe...   \n",
       "98  God doesn't require us to succeed, he only req...   \n",
       "99    Change your thoughts and you change your world.   \n",
       "\n",
       "                                            Authors  \\\n",
       "0   Change your thoughts and you change your world.   \n",
       "1   Change your thoughts and you change your world.   \n",
       "2   Change your thoughts and you change your world.   \n",
       "3   Change your thoughts and you change your world.   \n",
       "4   Change your thoughts and you change your world.   \n",
       "..                                              ...   \n",
       "95  Change your thoughts and you change your world.   \n",
       "96  Change your thoughts and you change your world.   \n",
       "97  Change your thoughts and you change your world.   \n",
       "98  Change your thoughts and you change your world.   \n",
       "99  Change your thoughts and you change your world.   \n",
       "\n",
       "                                       Types  \n",
       "0   Essence, Deep Thought, Transcendentalism  \n",
       "1                  Inspiration, Past, Trying  \n",
       "2                        Country, Peace, War  \n",
       "3         Inspirational, Motivational, Death  \n",
       "4               4th Of July, Food, Patriotic  \n",
       "..                                       ...  \n",
       "95                    Music, Sports, Hunting  \n",
       "96             Trust, Encouraging, Uplifting  \n",
       "97              Inspirational, Funny, Change  \n",
       "98                      Success, God, Mother  \n",
       "99       Inspirational, Motivational, Change  \n",
       "\n",
       "[100 rows x 3 columns]"
      ]
     },
     "execution_count": 528,
     "metadata": {},
     "output_type": "execute_result"
    }
   ],
   "source": [
    "df= pd.DataFrame({'Quotes':Quotes, 'Authors': Authors, 'Types': Types })\n",
    "df"
   ]
  },
  {
   "cell_type": "code",
   "execution_count": null,
   "id": "ed0cf0b4",
   "metadata": {},
   "outputs": [],
   "source": []
  }
 ],
 "metadata": {
  "kernelspec": {
   "display_name": "Python 3 (ipykernel)",
   "language": "python",
   "name": "python3"
  },
  "language_info": {
   "codemirror_mode": {
    "name": "ipython",
    "version": 3
   },
   "file_extension": ".py",
   "mimetype": "text/x-python",
   "name": "python",
   "nbconvert_exporter": "python",
   "pygments_lexer": "ipython3",
   "version": "3.11.5"
  }
 },
 "nbformat": 4,
 "nbformat_minor": 5
}
